{
 "cells": [
  {
   "cell_type": "markdown",
   "metadata": {},
   "source": [
    "# Ridge Regression"
   ]
  },
  {
   "cell_type": "code",
   "execution_count": 66,
   "metadata": {
    "collapsed": false
   },
   "outputs": [
    {
     "name": "stdout",
     "output_type": "stream",
     "text": [
      "The autoreload extension is already loaded. To reload it, use:\n",
      "  %reload_ext autoreload\n"
     ]
    }
   ],
   "source": [
    "# Useful starting lines\n",
    "%matplotlib inline\n",
    "import numpy as np\n",
    "import matplotlib.pyplot as plt\n",
    "%load_ext autoreload\n",
    "%autoreload 2"
   ]
  },
  {
   "cell_type": "code",
   "execution_count": 67,
   "metadata": {
    "collapsed": true
   },
   "outputs": [],
   "source": [
    "## Load the training data into feature matrix, class labels, and event ids:"
   ]
  },
  {
   "cell_type": "code",
   "execution_count": 68,
   "metadata": {
    "collapsed": false
   },
   "outputs": [],
   "source": [
    "from proj1_helpers import *\n",
    "DATA_TRAIN_PATH = '../data/train.csv'\n",
    "y, tX, ids = load_csv_data(DATA_TRAIN_PATH)"
   ]
  },
  {
   "cell_type": "markdown",
   "metadata": {},
   "source": [
    "## Features Preparation\n",
    " * Standardization\n",
    " * PCA ( TODO )\n",
    " * Polynomial basis"
   ]
  },
  {
   "cell_type": "code",
   "execution_count": 78,
   "metadata": {
    "collapsed": false
   },
   "outputs": [
    {
     "name": "stdout",
     "output_type": "stream",
     "text": [
      "normal (250000, 30)\n",
      "basis (250000, 90)\n",
      "(250000, 90)\n",
      "(array([31, 32, 33, 34, 35, 36, 37, 38, 39, 40, 41, 42, 43, 44, 45, 46, 47,\n",
      "       48, 49, 50, 51, 52, 53, 54, 55, 56, 57, 58, 59, 60, 61, 62, 63, 64,\n",
      "       65, 66, 67, 68, 69, 70, 71, 72, 73, 74, 75, 76, 77, 78, 79, 80, 81,\n",
      "       82, 83, 84, 85, 86, 87, 88, 89]),)\n",
      "(array([ 0,  1,  2,  3,  4,  5,  6,  7,  8,  9, 10, 11, 12, 13, 14, 15, 16,\n",
      "       17, 18, 19, 20, 21, 22, 23, 24, 25, 26, 27, 28, 29, 30]),)\n",
      "(250000, 59)\n"
     ]
    }
   ],
   "source": [
    "from helpers import *\n",
    "# Standardization\n",
    "tX_norm = normalize(tX)\n",
    "\n",
    "# Polynomial Basis\n",
    "degree = 3\n",
    "print(\"normal\", tX.shape)\n",
    "tX_poly = polynomialBasis(tX_norm, degree)\n",
    "tX_basis = tX_poly\n",
    "print(\"basis\", tX_basis.shape)\n",
    "\n",
    "# ---------- PCA test\n",
    "\n",
    "pcatX = plt.mlab.PCA(tX_basis)\n",
    "print(pcatX.Y.shape)\n",
    "num_feature = np.nonzero(np.cumsum(pcatX.fracs) > 0.9)\n",
    "num_useless = np.nonzero(np.cumsum(pcatX.fracs) < 0.9)\n",
    "print(num_feature)\n",
    "print(num_useless)\n",
    "tX_filtered = np.delete(tX_basis,num_useless, axis = 1)\n",
    "print(tX_filtered.shape)\n",
    "# -- pas conculant\n",
    "\n",
    "\n",
    "tXTr = np.hstack((np.ones((tX_basis.shape[0],1)), tX_basis))"
   ]
  },
  {
   "cell_type": "markdown",
   "metadata": {},
   "source": [
    "## Parameter Optimization"
   ]
  },
  {
   "cell_type": "code",
   "execution_count": 79,
   "metadata": {
    "collapsed": false
   },
   "outputs": [
    {
     "name": "stdout",
     "output_type": "stream",
     "text": [
      "Step 1 over 30 | gamma:  0.0001\n",
      "  -> loss_tr: 0.30764899566867177\n",
      "  -> loss_te: 5.845172493870686\n",
      "Step 2 over 30 | gamma:  0.000137382379588\n",
      "  -> loss_tr: 0.3076515917627318\n",
      "  -> loss_te: 5.792404515540349\n",
      "Step 3 over 30 | gamma:  0.000188739182214\n",
      "  -> loss_tr: 0.3076561828241734\n",
      "  -> loss_te: 5.724352807040928\n",
      "Step 4 over 30 | gamma:  0.00025929437974\n",
      "  -> loss_tr: 0.30766413769042306\n",
      "  -> loss_te: 5.638289254374802\n",
      "Step 5 over 30 | gamma:  0.000356224789026\n",
      "  -> loss_tr: 0.3076775747104089\n",
      "  -> loss_te: 5.5320229028873245\n",
      "Step 6 over 30 | gamma:  0.000489390091848\n",
      "  -> loss_tr: 0.3076995817009951\n",
      "  -> loss_te: 5.404472596797882\n",
      "Step 7 over 30 | gamma:  0.00067233575365\n",
      "  -> loss_tr: 0.3077343373116902\n",
      "  -> loss_te: 5.25617742492211\n",
      "Step 8 over 30 | gamma:  0.000923670857187\n",
      "  -> loss_tr: 0.3077870068457172\n",
      "  -> loss_te: 5.089472425683867\n",
      "Step 9 over 30 | gamma:  0.00126896100317\n",
      "  -> loss_tr: 0.30786332951728557\n",
      "  -> loss_te: 4.908078758870873\n",
      "Step 10 over 30 | gamma:  0.0017433288222\n",
      "  -> loss_tr: 0.3079689925344852\n",
      "  -> loss_te: 4.716079806712523\n",
      "Step 11 over 30 | gamma:  0.00239502661999\n",
      "  -> loss_tr: 0.3081091600120027\n",
      "  -> loss_te: 4.516614893071952\n",
      "Step 12 over 30 | gamma:  0.00329034456231\n",
      "  -> loss_tr: 0.30828866584162573\n",
      "  -> loss_te: 4.310894281440304\n",
      "Step 13 over 30 | gamma:  0.00452035365636\n",
      "  -> loss_tr: 0.3085130926773709\n",
      "  -> loss_te: 4.09808034503324\n",
      "Step 14 over 30 | gamma:  0.00621016941892\n",
      "  -> loss_tr: 0.3087902411974002\n",
      "  -> loss_te: 3.876138673386407\n",
      "Step 15 over 30 | gamma:  0.00853167852417\n",
      "  -> loss_tr: 0.3091308558757723\n",
      "  -> loss_te: 3.643157811991226\n",
      "Step 16 over 30 | gamma:  0.0117210229753\n",
      "  -> loss_tr: 0.30954761218888416\n",
      "  -> loss_te: 3.398244530090298\n",
      "Step 17 over 30 | gamma:  0.0161026202756\n",
      "  -> loss_tr: 0.3100525417921366\n",
      "  -> loss_te: 3.1412491821196538\n",
      "Step 18 over 30 | gamma:  0.0221221629107\n",
      "  -> loss_tr: 0.31065470384012206\n",
      "  -> loss_te: 2.871330293039123\n",
      "Step 19 over 30 | gamma:  0.0303919538231\n",
      "  -> loss_tr: 0.31136073889174354\n",
      "  -> loss_te: 2.585388910693822\n",
      "Step 20 over 30 | gamma:  0.0417531893656\n",
      "  -> loss_tr: 0.31217993120013177\n",
      "  -> loss_te: 2.2780167259619044\n",
      "Step 21 over 30 | gamma:  0.0573615251045\n",
      "  -> loss_tr: 0.3131329847744325\n",
      "  -> loss_te: 1.9442214524381707\n",
      "Step 22 over 30 | gamma:  0.0788046281567\n",
      "  -> loss_tr: 0.31426164561445524\n",
      "  -> loss_te: 1.5848002695860068\n",
      "Step 23 over 30 | gamma:  0.108263673387\n",
      "  -> loss_tr: 0.31563577960320893\n",
      "  -> loss_te: 1.2124821135794828\n",
      "Step 24 over 30 | gamma:  0.148735210729\n",
      "  -> loss_tr: 0.3173551010632586\n",
      "  -> loss_te: 0.8558981804031861\n",
      "Step 25 over 30 | gamma:  0.204335971786\n",
      "  -> loss_tr: 0.31954366394464107\n",
      "  -> loss_te: 0.5589128591740442\n",
      "Step 26 over 30 | gamma:  0.280721620394\n",
      "  -> loss_tr: 0.3223368854892209\n",
      "  -> loss_te: 0.37463978628218375\n",
      "Step 27 over 30 | gamma:  0.385662042116\n",
      "  -> loss_tr: 0.32586406532719725\n",
      "  -> loss_te: 0.35503325120995877\n",
      "Step 28 over 30 | gamma:  0.529831690628\n",
      "  -> loss_tr: 0.33023290458966953\n",
      "  -> loss_te: 0.536999745372869\n",
      "Step 29 over 30 | gamma:  0.727895384398\n",
      "  -> loss_tr: 0.3355226235713069\n",
      "  -> loss_te: 0.9258815091702551\n",
      "Step 30 over 30 | gamma:  1.0\n",
      "  -> loss_tr: 0.34178632550289345\n",
      "  -> loss_te: 1.4800743445808977\n"
     ]
    }
   ],
   "source": [
    "from cross_validation import *\n",
    "\n",
    "k_fold = 2\n",
    "nbPoints = 30\n",
    "lambdas = np.logspace(-4, 0, nbPoints)\n",
    "losses_tr = []\n",
    "losses_te = []\n",
    "\n",
    "#print(\"Gammas: {}\".format(gammas))\n",
    "\n",
    "i = 0    \n",
    "for lam in lambdas:\n",
    "    i = i + 1\n",
    "    print(\"Step\", i, \"over\", nbPoints, \"| gamma: \", lam)\n",
    "    loss_train = []\n",
    "    loss_test = []\n",
    "    initial_w = np.zeros((tXTr.shape[1]))\n",
    "     \n",
    "    for k in range (k_fold):\n",
    "        loss_tr, loss_te = cross_validation(y, tXTr, k_fold, k, lam, initial_w, 0, \"ridge_regression\")\n",
    "        loss_train.append(loss_tr)\n",
    "        loss_test.append(loss_te)\n",
    "        \n",
    "    \n",
    "    # rmse of the mean mse\n",
    "    loss_tr = np.sum(loss_train, axis=0)/k_fold\n",
    "    loss_te = np.sum(loss_test, axis=0)/k_fold\n",
    "    losses_tr.append(loss_tr)\n",
    "    losses_te.append(loss_te)\n",
    "    print(\"  -> loss_tr: {}\\n  -> loss_te: {}\".format(loss_tr, loss_te))\n",
    "\n"
   ]
  },
  {
   "cell_type": "code",
   "execution_count": 80,
   "metadata": {
    "collapsed": false
   },
   "outputs": [
    {
     "data": {
      "image/png": "[encoded data removed]",
      "text/plain": [
       "<matplotlib.figure.Figure at 0x7f6eb143e198>"
      ]
     },
     "metadata": {},
     "output_type": "display_data"
    }
   ],
   "source": [
    "plt.semilogx(lambdas, losses_tr, marker=\".\", color='b', label='train error')\n",
    "plt.semilogx(lambdas, losses_te, marker=\".\", color='r', label='test error')\n",
    "plt.xlabel(\"Lambdas\")\n",
    "plt.ylabel(\"rmse\")\n",
    "plt.title(\"cross validation\")\n",
    "plt.legend(loc=2)\n",
    "plt.grid(True)\n",
    "plt.savefig(\"cross_validation\")"
   ]
  },
  {
   "cell_type": "markdown",
   "metadata": {
    "collapsed": true
   },
   "source": [
    "=> Lambda : 10e-3"
   ]
  },
  {
   "cell_type": "markdown",
   "metadata": {},
   "source": [
    "## Predict"
   ]
  },
  {
   "cell_type": "code",
   "execution_count": 52,
   "metadata": {
    "collapsed": false
   },
   "outputs": [
    {
     "name": "stdout",
     "output_type": "stream",
     "text": [
      "(568238, 30)\n"
     ]
    }
   ],
   "source": [
    "DATA_TEST_PATH = '../data/test.csv'\n",
    "_, tX_test, ids_test = load_csv_data(DATA_TEST_PATH)\n",
    "print(tX_test.shape)"
   ]
  },
  {
   "cell_type": "code",
   "execution_count": 53,
   "metadata": {
    "collapsed": false,
    "scrolled": true
   },
   "outputs": [],
   "source": [
    "lambda_ = 0.001\n",
    "\n",
    "tXTr = np.hstack((np.ones((tX_basis.shape[0],1)), tX_basis))\n",
    "train_w, loss_tr = ridge_regression(y, tXTr, lambda_)\n",
    "\n",
    "tXTe = normalize(tX_test)\n",
    "tXTe = polynomialBasis(tXTe, 2)\n",
    "tXTe = np.delete(tX_basis, num_useless)\n",
    "tXTe = np.hstack((np.ones((tX_test.shape[0],1)), tXTe))\n",
    "\n"
   ]
  },
  {
   "cell_type": "code",
   "execution_count": 54,
   "metadata": {
    "collapsed": false
   },
   "outputs": [],
   "source": [
    "OUTPUT_PATH = '../output/out.csv'\n",
    "\n",
    "y_pred = predict_labels(train_w, tXTe)\n",
    "\n",
    "create_csv_submission(ids_test, y_pred, OUTPUT_PATH)"
   ]
  },
  {
   "cell_type": "code",
   "execution_count": null,
   "metadata": {
    "collapsed": true
   },
   "outputs": [],
   "source": []
  }
 ],
 "metadata": {
  "kernelspec": {
   "display_name": "Python 3",
   "language": "python",
   "name": "python3"
  },
  "language_info": {
   "codemirror_mode": {
    "name": "ipython",
    "version": 3
   },
   "file_extension": ".py",
   "mimetype": "text/x-python",
   "name": "python",
   "nbconvert_exporter": "python",
   "pygments_lexer": "ipython3",
   "version": "3.4.3"
  }
 },
 "nbformat": 4,
 "nbformat_minor": 1
}
