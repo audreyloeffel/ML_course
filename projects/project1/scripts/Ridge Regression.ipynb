{
 "cells": [
  {
   "cell_type": "markdown",
   "metadata": {},
   "source": [
    "# Ridge Regression"
   ]
  },
  {
   "cell_type": "code",
   "execution_count": 7,
   "metadata": {
    "collapsed": false
   },
   "outputs": [
    {
     "name": "stdout",
     "output_type": "stream",
     "text": [
      "The autoreload extension is already loaded. To reload it, use:\n",
      "  %reload_ext autoreload\n"
     ]
    }
   ],
   "source": [
    "# Useful starting lines\n",
    "%matplotlib inline\n",
    "import numpy as np\n",
    "import matplotlib.pyplot as plt\n",
    "%load_ext autoreload\n",
    "%autoreload 2"
   ]
  },
  {
   "cell_type": "code",
   "execution_count": 8,
   "metadata": {
    "collapsed": true
   },
   "outputs": [],
   "source": [
    "## Load the training data into feature matrix, class labels, and event ids:"
   ]
  },
  {
   "cell_type": "code",
   "execution_count": 9,
   "metadata": {
    "collapsed": false
   },
   "outputs": [],
   "source": [
    "from proj1_helpers import *\n",
    "DATA_TRAIN_PATH = '../data/train.csv'\n",
    "y, tX, ids = load_csv_data(DATA_TRAIN_PATH)"
   ]
  },
  {
   "cell_type": "markdown",
   "metadata": {},
   "source": [
    "## Features Preparation\n",
    " * Standardization\n",
    " * PCA ( TODO )\n",
    " * Polynomial basis"
   ]
  },
  {
   "cell_type": "code",
   "execution_count": 14,
   "metadata": {
    "collapsed": false
   },
   "outputs": [
    {
     "name": "stdout",
     "output_type": "stream",
     "text": [
      "normal (250000, 30)\n",
      "basis (250000, 60)\n",
      "[[ 1.          0.46141372  0.06833197 ..., -1.56404916 -1.56403721\n",
      "  -0.04665933]\n",
      " [ 1.          0.51670419  0.55250482 ...,  0.63936843  0.63936843\n",
      "  -0.28956955]\n",
      " [ 1.         -2.33785898  3.19515553 ...,  0.63936843  0.63936843\n",
      "  -0.29360931]\n",
      " ..., \n",
      " [ 1.          0.38016991  0.31931645 ...,  0.63936843  0.63936843\n",
      "  -0.29801375]\n",
      " [ 1.          0.35431502 -0.84532397 ...,  0.63936843  0.63936843\n",
      "  -0.33787799]\n",
      " [ 1.         -2.33785898  0.66533608 ...,  0.63936843  0.63936843\n",
      "  -0.33787799]]\n"
     ]
    }
   ],
   "source": [
    "from helpers import *\n",
    "# Standardization\n",
    "#tX_norm = normalize(tX)\n",
    "\n",
    "# Polynomial Basis\n",
    "degree = 2\n",
    "print(\"normal\", tX.shape)\n",
    "tX_poly = polynomialBasis(tX, degree)\n",
    "tX_basis = tX_poly\n",
    "print(\"basis\", tX_basis.shape)\n",
    "\n",
    "tXTr, mean_x, std_x = standardize(tX_basis)\n"
   ]
  },
  {
   "cell_type": "markdown",
   "metadata": {},
   "source": [
    "## Parameter Optimization"
   ]
  },
  {
   "cell_type": "code",
   "execution_count": 15,
   "metadata": {
    "collapsed": false
   },
   "outputs": [
    {
     "name": "stdout",
     "output_type": "stream",
     "text": [
      "Step 1 over 30 | gamma:  0.0001\n",
      "  -> loss_tr: 0.3239153885725591\n",
      "  -> loss_te: 0.3766702453370381\n",
      "Step 2 over 30 | gamma:  0.000137382379588\n",
      "  -> loss_tr: 0.32392502514185717\n",
      "  -> loss_te: 0.375371933165623\n",
      "Step 3 over 30 | gamma:  0.000188739182214\n",
      "  -> loss_tr: 0.32393483076859236\n",
      "  -> loss_te: 0.3737866812727616\n",
      "Step 4 over 30 | gamma:  0.00025929437974\n",
      "  -> loss_tr: 0.3239461888491558\n",
      "  -> loss_te: 0.3718094518181475\n",
      "Step 5 over 30 | gamma:  0.000356224789026\n",
      "  -> loss_tr: 0.3239613473585441\n",
      "  -> loss_te: 0.36933685875347544\n",
      "Step 6 over 30 | gamma:  0.000489390091848\n",
      "  -> loss_tr: 0.3239839708635174\n",
      "  -> loss_te: 0.36628291212157116\n",
      "Step 7 over 30 | gamma:  0.00067233575365\n",
      "  -> loss_tr: 0.324019955960955\n",
      "  -> loss_te: 0.3626033395180429\n",
      "Step 8 over 30 | gamma:  0.000923670857187\n",
      "  -> loss_tr: 0.32407851225565276\n",
      "  -> loss_te: 0.3583276343650826\n",
      "Step 9 over 30 | gamma:  0.00126896100317\n",
      "  -> loss_tr: 0.3241733746897821\n",
      "  -> loss_te: 0.3535909365241927\n",
      "Step 10 over 30 | gamma:  0.0017433288222\n",
      "  -> loss_tr: 0.324323768121487\n",
      "  -> loss_te: 0.34864879458422066\n",
      "Step 11 over 30 | gamma:  0.00239502661999\n",
      "  -> loss_tr: 0.3245544446186957\n",
      "  -> loss_te: 0.343854164593402\n",
      "Step 12 over 30 | gamma:  0.00329034456231\n",
      "  -> loss_tr: 0.32489396322267705\n",
      "  -> loss_te: 0.33958784459417557\n",
      "Step 13 over 30 | gamma:  0.00452035365636\n",
      "  -> loss_tr: 0.3253707585439431\n",
      "  -> loss_te: 0.3361617662882941\n",
      "Step 14 over 30 | gamma:  0.00621016941892\n",
      "  -> loss_tr: 0.32600776520442953\n",
      "  -> loss_te: 0.33373981600812275\n",
      "Step 15 over 30 | gamma:  0.00853167852417\n",
      "  -> loss_tr: 0.3268181103378607\n",
      "  -> loss_te: 0.3323166508037657\n",
      "Step 16 over 30 | gamma:  0.0117210229753\n",
      "  -> loss_tr: 0.3278053124703242\n",
      "  -> loss_te: 0.33175996992782636\n",
      "Step 17 over 30 | gamma:  0.0161026202756\n",
      "  -> loss_tr: 0.3289700231037149\n",
      "  -> loss_te: 0.33188633625192754\n",
      "Step 18 over 30 | gamma:  0.0221221629107\n",
      "  -> loss_tr: 0.3303218804787682\n",
      "  -> loss_te: 0.332532300843856\n",
      "Step 19 over 30 | gamma:  0.0303919538231\n",
      "  -> loss_tr: 0.33189206063018734\n",
      "  -> loss_te: 0.3335983775641336\n",
      "Step 20 over 30 | gamma:  0.0417531893656\n",
      "  -> loss_tr: 0.3337420578240757\n",
      "  -> loss_te: 0.3350634302937263\n",
      "Step 21 over 30 | gamma:  0.0573615251045\n",
      "  -> loss_tr: 0.33596695863214043\n",
      "  -> loss_te: 0.3369785916722525\n",
      "Step 22 over 30 | gamma:  0.0788046281567\n",
      "  -> loss_tr: 0.3386945685690501\n",
      "  -> loss_te: 0.3394523181077366\n",
      "Step 23 over 30 | gamma:  0.108263673387\n",
      "  -> loss_tr: 0.3420825578046519\n",
      "  -> loss_te: 0.3426350160551715\n",
      "Step 24 over 30 | gamma:  0.148735210729\n",
      "  -> loss_tr: 0.34631317694027663\n",
      "  -> loss_te: 0.3467053275469775\n",
      "Step 25 over 30 | gamma:  0.204335971786\n",
      "  -> loss_tr: 0.3515803833103215\n",
      "  -> loss_te: 0.3518530080154349\n",
      "Step 26 over 30 | gamma:  0.280721620394\n",
      "  -> loss_tr: 0.3580614441096829\n",
      "  -> loss_te: 0.35824936838499594\n",
      "Step 27 over 30 | gamma:  0.385662042116\n",
      "  -> loss_tr: 0.3658699115251205\n",
      "  -> loss_te: 0.3660007776068094\n",
      "Step 28 over 30 | gamma:  0.529831690628\n",
      "  -> loss_tr: 0.3750013705531018\n",
      "  -> loss_te: 0.3750954569681695\n",
      "Step 29 over 30 | gamma:  0.727895384398\n",
      "  -> loss_tr: 0.3852980459787706\n",
      "  -> loss_te: 0.3853689971471901\n",
      "Step 30 over 30 | gamma:  1.0\n",
      "  -> loss_tr: 0.3964556781995084\n",
      "  -> loss_te: 0.396511820077882\n"
     ]
    }
   ],
   "source": [
    "from cross_validation import *\n",
    "\n",
    "k_fold = 2\n",
    "nbPoints = 30\n",
    "lambdas = np.logspace(-4, 0, nbPoints)\n",
    "losses_tr = []\n",
    "losses_te = []\n",
    "\n",
    "#print(\"Gammas: {}\".format(gammas))\n",
    "\n",
    "i = 0    \n",
    "for lam in lambdas:\n",
    "    i = i + 1\n",
    "    print(\"Step\", i, \"over\", nbPoints, \"| gamma: \", lam)\n",
    "    loss_train = []\n",
    "    loss_test = []\n",
    "    initial_w = np.zeros((tXTr.shape[1]))\n",
    "     \n",
    "    for k in range (k_fold):\n",
    "        loss_tr, loss_te = cross_validation(y, tXTr, k_fold, k, lam, initial_w, 0, \"ridge_regression\")\n",
    "        loss_train.append(loss_tr)\n",
    "        loss_test.append(loss_te)\n",
    "        \n",
    "    \n",
    "    # rmse of the mean mse\n",
    "    loss_tr = np.sum(loss_train, axis=0)/k_fold\n",
    "    loss_te = np.sum(loss_test, axis=0)/k_fold\n",
    "    losses_tr.append(loss_tr)\n",
    "    losses_te.append(loss_te)\n",
    "    print(\"  -> loss_tr: {}\\n  -> loss_te: {}\".format(loss_tr, loss_te))\n",
    "\n"
   ]
  },
  {
   "cell_type": "code",
   "execution_count": 16,
   "metadata": {
    "collapsed": false
   },
   "outputs": [
    {
     "data": {
      "image/png": "[encoded data removed]",
      "text/plain": [
       "<matplotlib.figure.Figure at 0x7f8067ec5630>"
      ]
     },
     "metadata": {},
     "output_type": "display_data"
    }
   ],
   "source": [
    "plt.semilogx(lambdas, losses_tr, marker=\".\", color='b', label='train error')\n",
    "plt.semilogx(lambdas, losses_te, marker=\".\", color='r', label='test error')\n",
    "plt.xlabel(\"Lambdas\")\n",
    "plt.ylabel(\"rmse\")\n",
    "plt.title(\"Ridge Regression\")\n",
    "plt.legend(loc=2)\n",
    "plt.grid(True)\n",
    "plt.savefig(\"cross_validation_ridge_d2\")"
   ]
  },
  {
   "cell_type": "markdown",
   "metadata": {
    "collapsed": true
   },
   "source": [
    "=> Lambda : 10e-3"
   ]
  },
  {
   "cell_type": "markdown",
   "metadata": {},
   "source": [
    "## Predict"
   ]
  },
  {
   "cell_type": "code",
   "execution_count": 19,
   "metadata": {
    "collapsed": false
   },
   "outputs": [
    {
     "name": "stdout",
     "output_type": "stream",
     "text": [
      "(568238, 30)\n"
     ]
    }
   ],
   "source": [
    "DATA_TEST_PATH = '../data/test.csv'\n",
    "_, tX_test, ids_test = load_csv_data(DATA_TEST_PATH)\n",
    "print(tX_test.shape)"
   ]
  },
  {
   "cell_type": "code",
   "execution_count": null,
   "metadata": {
    "collapsed": false,
    "scrolled": true
   },
   "outputs": [],
   "source": [
    "lambda_ = 0.001\n",
    "\n",
    "tXTr = np.hstack((np.ones((tX_basis.shape[0],1)), tX_basis))\n",
    "train_w, loss_tr = ridge_regression(y, tXTr, lambda_)\n",
    "\n",
    "\n",
    "tXTe = polynomialBasis(tXTe, 2, True)\n",
    "tXTe = np.delete(tX_basis, num_useless)\n",
    "tXTe, mean_, std_ = standardize(tXTe)\n",
    "\n"
   ]
  },
  {
   "cell_type": "code",
   "execution_count": null,
   "metadata": {
    "collapsed": false
   },
   "outputs": [],
   "source": [
    "OUTPUT_PATH = '../output/out-ridge-d2.csv'\n",
    "\n",
    "y_pred = predict_labels(train_w, tXTe)\n",
    "\n",
    "create_csv_submission(ids_test, y_pred, OUTPUT_PATH)"
   ]
  },
  {
   "cell_type": "code",
   "execution_count": null,
   "metadata": {
    "collapsed": true
   },
   "outputs": [],
   "source": []
  }
 ],
 "metadata": {
  "kernelspec": {
   "display_name": "Python 3",
   "language": "python",
   "name": "python3"
  },
  "language_info": {
   "codemirror_mode": {
    "name": "ipython",
    "version": 3
   },
   "file_extension": ".py",
   "mimetype": "text/x-python",
   "name": "python",
   "nbconvert_exporter": "python",
   "pygments_lexer": "ipython3",
   "version": "3.4.3"
  }
 },
 "nbformat": 4,
 "nbformat_minor": 1
}
