{
 "cells": [
  {
   "cell_type": "markdown",
   "metadata": {},
   "source": [
    "# Ridge Regression"
   ]
  },
  {
   "cell_type": "code",
   "execution_count": 2,
   "metadata": {
    "collapsed": false
   },
   "outputs": [],
   "source": [
    "# Useful starting lines\n",
    "%matplotlib inline\n",
    "import numpy as np\n",
    "import matplotlib.pyplot as plt\n",
    "%load_ext autoreload\n",
    "%autoreload 2"
   ]
  },
  {
   "cell_type": "code",
   "execution_count": 3,
   "metadata": {
    "collapsed": true
   },
   "outputs": [],
   "source": [
    "## Load the training data into feature matrix, class labels, and event ids:"
   ]
  },
  {
   "cell_type": "code",
   "execution_count": 4,
   "metadata": {
    "collapsed": false
   },
   "outputs": [],
   "source": [
    "from proj1_helpers import *\n",
    "DATA_TRAIN_PATH = '../data/train.csv'\n",
    "y, tX, ids = load_csv_data(DATA_TRAIN_PATH)"
   ]
  },
  {
   "cell_type": "markdown",
   "metadata": {},
   "source": [
    "## Features Preparation\n",
    " * Standardization\n",
    " * PCA ( TODO )\n",
    " * Polynomial basis"
   ]
  },
  {
   "cell_type": "code",
   "execution_count": 5,
   "metadata": {
    "collapsed": false
   },
   "outputs": [
    {
     "name": "stdout",
     "output_type": "stream",
     "text": [
      "normal (250000, 30)\n",
      "basis (250000, 60)\n"
     ]
    }
   ],
   "source": [
    "from helpers import *\n",
    "# Standardization\n",
    "#tX_norm = normalize(tX)\n",
    "\n",
    "# Polynomial Basis\n",
    "degree = 2\n",
    "print(\"normal\", tX.shape)\n",
    "tX_poly = polynomialBasis(tX, degree)\n",
    "tX_basis = tX_poly\n",
    "print(\"basis\", tX_basis.shape)\n",
    "\n",
    "tXTr, mean_x, std_x = standardize(tX_basis)\n"
   ]
  },
  {
   "cell_type": "markdown",
   "metadata": {},
   "source": [
    "## Parameter Optimization"
   ]
  },
  {
   "cell_type": "code",
   "execution_count": 6,
   "metadata": {
    "collapsed": false
   },
   "outputs": [
    {
     "name": "stdout",
     "output_type": "stream",
     "text": [
      "Step 1 over 30 | gamma:  0.0001\n",
      "  -> loss_tr: 0.3239153885723445\n",
      "  -> loss_te: 0.3766702453747778\n",
      "Step 2 over 30 | gamma:  0.000137382379588\n",
      "  -> loss_tr: 0.32392502514172694\n",
      "  -> loss_te: 0.37537193319657564\n",
      "Step 3 over 30 | gamma:  0.000188739182214\n",
      "  -> loss_tr: 0.32393483076851387\n",
      "  -> loss_te: 0.37378668129745557\n",
      "Step 4 over 30 | gamma:  0.00025929437974\n",
      "  -> loss_tr: 0.32394618884910675\n",
      "  -> loss_te: 0.3718094518372683\n",
      "Step 5 over 30 | gamma:  0.000356224789026\n",
      "  -> loss_tr: 0.32396134735851045\n",
      "  -> loss_te: 0.36933685876781097\n",
      "Step 6 over 30 | gamma:  0.000489390091848\n",
      "  -> loss_tr: 0.32398397086349107\n",
      "  -> loss_te: 0.3662829121319475\n",
      "Step 7 over 30 | gamma:  0.00067233575365\n",
      "  -> loss_tr: 0.3240199559609323\n",
      "  -> loss_te: 0.3626033395252596\n",
      "Step 8 over 30 | gamma:  0.000923670857187\n",
      "  -> loss_tr: 0.3240785122556323\n",
      "  -> loss_te: 0.3583276343698847\n",
      "Step 9 over 30 | gamma:  0.00126896100317\n",
      "  -> loss_tr: 0.3241733746897635\n",
      "  -> loss_te: 0.3535909365272311\n",
      "Step 10 over 30 | gamma:  0.0017433288222\n",
      "  -> loss_tr: 0.32432376812147035\n",
      "  -> loss_te: 0.3486487945860417\n",
      "Step 11 over 30 | gamma:  0.00239502661999\n",
      "  -> loss_tr: 0.3245544446186808\n",
      "  -> loss_te: 0.34385416459443197\n",
      "Step 12 over 30 | gamma:  0.00329034456231\n",
      "  -> loss_tr: 0.32489396322266373\n",
      "  -> loss_te: 0.3395878445947259\n",
      "Step 13 over 30 | gamma:  0.00452035365636\n",
      "  -> loss_tr: 0.325370758543931\n",
      "  -> loss_te: 0.33616176628857286\n",
      "Step 14 over 30 | gamma:  0.00621016941892\n",
      "  -> loss_tr: 0.32600776520441854\n",
      "  -> loss_te: 0.33373981600825803\n",
      "Step 15 over 30 | gamma:  0.00853167852417\n",
      "  -> loss_tr: 0.32681811033785074\n",
      "  -> loss_te: 0.33231665080382905\n",
      "Step 16 over 30 | gamma:  0.0117210229753\n",
      "  -> loss_tr: 0.3278053124703155\n",
      "  -> loss_te: 0.3317599699278553\n",
      "Step 17 over 30 | gamma:  0.0161026202756\n",
      "  -> loss_tr: 0.32897002310370765\n",
      "  -> loss_te: 0.33188633625194064\n",
      "Step 18 over 30 | gamma:  0.0221221629107\n",
      "  -> loss_tr: 0.33032188047876254\n",
      "  -> loss_te: 0.3325323008438621\n",
      "Step 19 over 30 | gamma:  0.0303919538231\n",
      "  -> loss_tr: 0.3318920606301835\n",
      "  -> loss_te: 0.3335983775641367\n",
      "Step 20 over 30 | gamma:  0.0417531893656\n",
      "  -> loss_tr: 0.33374205782407323\n",
      "  -> loss_te: 0.3350634302937283\n",
      "Step 21 over 30 | gamma:  0.0573615251045\n",
      "  -> loss_tr: 0.335966958632139\n",
      "  -> loss_te: 0.3369785916722542\n",
      "Step 22 over 30 | gamma:  0.0788046281567\n",
      "  -> loss_tr: 0.3386945685690491\n",
      "  -> loss_te: 0.33945231810773757\n",
      "Step 23 over 30 | gamma:  0.108263673387\n",
      "  -> loss_tr: 0.3420825578046512\n",
      "  -> loss_te: 0.34263501605517194\n",
      "Step 24 over 30 | gamma:  0.148735210729\n",
      "  -> loss_tr: 0.3463131769402757\n",
      "  -> loss_te: 0.34670532754697736\n",
      "Step 25 over 30 | gamma:  0.204335971786\n",
      "  -> loss_tr: 0.35158038331032043\n",
      "  -> loss_te: 0.3518530080154342\n",
      "Step 26 over 30 | gamma:  0.280721620394\n",
      "  -> loss_tr: 0.3580614441096817\n",
      "  -> loss_te: 0.35824936838499505\n",
      "Step 27 over 30 | gamma:  0.385662042116\n",
      "  -> loss_tr: 0.3658699115251195\n",
      "  -> loss_te: 0.3660007776068084\n",
      "Step 28 over 30 | gamma:  0.529831690628\n",
      "  -> loss_tr: 0.375001370553101\n",
      "  -> loss_te: 0.3750954569681687\n",
      "Step 29 over 30 | gamma:  0.727895384398\n",
      "  -> loss_tr: 0.3852980459787704\n",
      "  -> loss_te: 0.38536899714718975\n",
      "Step 30 over 30 | gamma:  1.0\n",
      "  -> loss_tr: 0.3964556781995086\n",
      "  -> loss_te: 0.3965118200778822\n"
     ]
    }
   ],
   "source": [
    "from cross_validation import *\n",
    "\n",
    "k_fold = 2\n",
    "nbPoints = 30\n",
    "lambdas = np.logspace(-4, 0, nbPoints)\n",
    "losses_tr = []\n",
    "losses_te = []\n",
    "\n",
    "#print(\"Gammas: {}\".format(gammas))\n",
    "\n",
    "i = 0    \n",
    "for lam in lambdas:\n",
    "    i = i + 1\n",
    "    print(\"Step\", i, \"over\", nbPoints, \"| gamma: \", lam)\n",
    "    loss_train = []\n",
    "    loss_test = []\n",
    "    initial_w = np.zeros((tXTr.shape[1]))\n",
    "     \n",
    "    for k in range (k_fold):\n",
    "        loss_tr, loss_te = cross_validation(y, tXTr, k_fold, k, lam, initial_w, 0, \"ridge_regression\")\n",
    "        loss_train.append(loss_tr)\n",
    "        loss_test.append(loss_te)\n",
    "        \n",
    "    \n",
    "    # rmse of the mean mse\n",
    "    loss_tr = np.sum(loss_train, axis=0)/k_fold\n",
    "    loss_te = np.sum(loss_test, axis=0)/k_fold\n",
    "    losses_tr.append(loss_tr)\n",
    "    losses_te.append(loss_te)\n",
    "    print(\"  -> loss_tr: {}\\n  -> loss_te: {}\".format(loss_tr, loss_te))\n",
    "\n"
   ]
  },
  {
   "cell_type": "code",
   "execution_count": 7,
   "metadata": {
    "collapsed": false
   },
   "outputs": [
    {
     "data": {
      "image/png": "[encoded data removed]",
      "text/plain": [
       "<matplotlib.figure.Figure at 0x7f208b93e470>"
      ]
     },
     "metadata": {},
     "output_type": "display_data"
    }
   ],
   "source": [
    "plt.semilogx(lambdas, losses_tr, marker=\".\", color='b', label='train error')\n",
    "plt.semilogx(lambdas, losses_te, marker=\".\", color='r', label='test error')\n",
    "plt.xlabel(\"Lambdas\")\n",
    "plt.ylabel(\"rmse\")\n",
    "plt.title(\"Ridge Regression\")\n",
    "plt.legend(loc=2)\n",
    "plt.grid(True)\n",
    "plt.savefig(\"cross_validation_ridge_d2\")"
   ]
  },
  {
   "cell_type": "markdown",
   "metadata": {
    "collapsed": true
   },
   "source": [
    "=> Lambda : 10e-3"
   ]
  },
  {
   "cell_type": "markdown",
   "metadata": {},
   "source": [
    "## Predict"
   ]
  },
  {
   "cell_type": "code",
   "execution_count": 19,
   "metadata": {
    "collapsed": false
   },
   "outputs": [
    {
     "name": "stdout",
     "output_type": "stream",
     "text": [
      "(568238, 30)\n"
     ]
    }
   ],
   "source": [
    "DATA_TEST_PATH = '../data/test.csv'\n",
    "_, tX_test, ids_test = load_csv_data(DATA_TEST_PATH)\n",
    "print(tX_test.shape)"
   ]
  },
  {
   "cell_type": "code",
   "execution_count": null,
   "metadata": {
    "collapsed": false,
    "scrolled": true
   },
   "outputs": [],
   "source": [
    "lambda_ = 0.001\n",
    "\n",
    "tXTr = np.hstack((np.ones((tX_basis.shape[0],1)), tX_basis))\n",
    "train_w, loss_tr = ridge_regression(y, tXTr, lambda_)\n",
    "\n",
    "\n",
    "tXTe = polynomialBasis(tXTe, 2, True)\n",
    "tXTe = np.delete(tX_basis, num_useless)\n",
    "tXTe, mean_, std_ = standardize(tXTe)\n",
    "\n"
   ]
  },
  {
   "cell_type": "code",
   "execution_count": null,
   "metadata": {
    "collapsed": false
   },
   "outputs": [],
   "source": [
    "OUTPUT_PATH = '../output/out-ridge-d2.csv'\n",
    "\n",
    "y_pred = predict_labels(train_w, tXTe)\n",
    "\n",
    "create_csv_submission(ids_test, y_pred, OUTPUT_PATH)"
   ]
  },
  {
   "cell_type": "code",
   "execution_count": null,
   "metadata": {
    "collapsed": true
   },
   "outputs": [],
   "source": []
  }
 ],
 "metadata": {
  "kernelspec": {
   "display_name": "Python [Root]",
   "language": "python",
   "name": "Python [Root]"
  },
  "language_info": {
   "codemirror_mode": {
    "name": "ipython",
    "version": 3
   },
   "file_extension": ".py",
   "mimetype": "text/x-python",
   "name": "python",
   "nbconvert_exporter": "python",
   "pygments_lexer": "ipython3",
   "version": "3.5.2"
  }
 },
 "nbformat": 4,
 "nbformat_minor": 1
}
