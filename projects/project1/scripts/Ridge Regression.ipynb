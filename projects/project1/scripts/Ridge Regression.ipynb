{
 "cells": [
  {
   "cell_type": "markdown",
   "metadata": {},
   "source": [
    "# Ridge Regression"
   ]
  },
  {
   "cell_type": "code",
   "execution_count": 50,
   "metadata": {
    "collapsed": false
   },
   "outputs": [],
   "source": [
    "# Useful starting lines\n",
    "%matplotlib inline\n",
    "import numpy as np\n",
    "import matplotlib.pyplot as plt\n",
    "%load_ext autoreload\n",
    "%autoreload 2"
   ]
  },
  {
   "cell_type": "code",
   "execution_count": 51,
   "metadata": {
    "collapsed": true
   },
   "outputs": [],
   "source": [
    "## Load the training data into feature matrix, class labels, and event ids:"
   ]
  },
  {
   "cell_type": "code",
   "execution_count": 52,
   "metadata": {
    "collapsed": false
   },
   "outputs": [],
   "source": [
    "from proj1_helpers import *\n",
    "DATA_TRAIN_PATH = '../data/train.csv'\n",
    "y, tX, ids = load_csv_data(DATA_TRAIN_PATH)"
   ]
  },
  {
   "cell_type": "markdown",
   "metadata": {},
   "source": [
    "## Features Preparation\n",
    " * Standardization\n",
    " * PCA ( TODO )\n",
    " * Polynomial basis"
   ]
  },
  {
   "cell_type": "code",
   "execution_count": 53,
   "metadata": {
    "collapsed": false
   },
   "outputs": [
    {
     "name": "stdout",
     "output_type": "stream",
     "text": [
      "normal (250000, 30)\n",
      "basis (250000, 150)\n"
     ]
    }
   ],
   "source": [
    "from helpers import *\n",
    "# Standardization\n",
    "#tX_norm = normalize(tX)\n",
    "\n",
    "# Polynomial Basis\n",
    "degree = 5\n",
    "print(\"normal\", tX.shape)\n",
    "tX_poly = polynomialBasis(tX, degree)\n",
    "tX_basis = tX_poly\n",
    "print(\"basis\", tX_basis.shape)\n",
    "\n",
    "tXTr, mean_x, std_x = standardize(tX_basis)\n"
   ]
  },
  {
   "cell_type": "markdown",
   "metadata": {},
   "source": [
    "## Parameter Optimization"
   ]
  },
  {
   "cell_type": "code",
   "execution_count": 54,
   "metadata": {
    "collapsed": false
   },
   "outputs": [
    {
     "name": "stdout",
     "output_type": "stream",
     "text": [
      "Step 1 over 30 | gamma:  0.0001\n",
      "  -> loss_tr: 0.3099932155088814\n",
      "  -> loss_te: 0.6102166201290861\n",
      "Step 2 over 30 | gamma:  0.000137382379588\n",
      "  -> loss_tr: 0.3107843959726485\n",
      "  -> loss_te: 0.5267962004723603\n",
      "Step 3 over 30 | gamma:  0.000188739182214\n",
      "  -> loss_tr: 0.3115411462739802\n",
      "  -> loss_te: 0.45412803829864945\n",
      "Step 4 over 30 | gamma:  0.00025929437974\n",
      "  -> loss_tr: 0.3122556269144203\n",
      "  -> loss_te: 0.3969153607981021\n",
      "Step 5 over 30 | gamma:  0.000356224789026\n",
      "  -> loss_tr: 0.312930680018757\n",
      "  -> loss_te: 0.3567262760967832\n",
      "Step 6 over 30 | gamma:  0.000489390091848\n",
      "  -> loss_tr: 0.3135781447528724\n",
      "  -> loss_te: 0.3325239535438794\n",
      "Step 7 over 30 | gamma:  0.00067233575365\n",
      "  -> loss_tr: 0.3142163583242173\n",
      "  -> loss_te: 0.32155375635118716\n",
      "Step 8 over 30 | gamma:  0.000923670857187\n",
      "  -> loss_tr: 0.3148675590510458\n",
      "  -> loss_te: 0.3202099959709865\n",
      "Step 9 over 30 | gamma:  0.00126896100317\n",
      "  -> loss_tr: 0.3155556495052912\n",
      "  -> loss_te: 0.32471450554863335\n",
      "Step 10 over 30 | gamma:  0.0017433288222\n",
      "  -> loss_tr: 0.3163043550777243\n",
      "  -> loss_te: 0.3316365347048057\n",
      "Step 11 over 30 | gamma:  0.00239502661999\n",
      "  -> loss_tr: 0.3171353688806125\n",
      "  -> loss_te: 0.3382958431410392\n",
      "Step 12 over 30 | gamma:  0.00329034456231\n",
      "  -> loss_tr: 0.3180661738512955\n",
      "  -> loss_te: 0.343006041794219\n",
      "Step 13 over 30 | gamma:  0.00452035365636\n",
      "  -> loss_tr: 0.3191081167552338\n",
      "  -> loss_te: 0.3450929717257469\n",
      "Step 14 over 30 | gamma:  0.00621016941892\n",
      "  -> loss_tr: 0.32026620995260435\n",
      "  -> loss_te: 0.34470086201158257\n",
      "Step 15 over 30 | gamma:  0.00853167852417\n",
      "  -> loss_tr: 0.32154185936793805\n",
      "  -> loss_te: 0.34248983439425706\n",
      "Step 16 over 30 | gamma:  0.0117210229753\n",
      "  -> loss_tr: 0.3229381405822842\n",
      "  -> loss_te: 0.3393436852765967\n",
      "Step 17 over 30 | gamma:  0.0161026202756\n",
      "  -> loss_tr: 0.3244658132160284\n",
      "  -> loss_te: 0.3361483414249029\n",
      "Step 18 over 30 | gamma:  0.0221221629107\n",
      "  -> loss_tr: 0.3261484191350075\n",
      "  -> loss_te: 0.3336393734434916\n",
      "Step 19 over 30 | gamma:  0.0303919538231\n",
      "  -> loss_tr: 0.3280262028596591\n",
      "  -> loss_te: 0.3323038870680779\n",
      "Step 20 over 30 | gamma:  0.0417531893656\n",
      "  -> loss_tr: 0.33015953524541364\n",
      "  -> loss_te: 0.3323434398387996\n",
      "Step 21 over 30 | gamma:  0.0573615251045\n",
      "  -> loss_tr: 0.3326320518582795\n",
      "  -> loss_te: 0.33371267804191074\n",
      "Step 22 over 30 | gamma:  0.0788046281567\n",
      "  -> loss_tr: 0.3355524678671685\n",
      "  -> loss_te: 0.33622417111568403\n",
      "Step 23 over 30 | gamma:  0.108263673387\n",
      "  -> loss_tr: 0.3390531542740761\n",
      "  -> loss_te: 0.33967727109165097\n",
      "Step 24 over 30 | gamma:  0.148735210729\n",
      "  -> loss_tr: 0.34328349169012407\n",
      "  -> loss_te: 0.34395816932721984\n",
      "Step 25 over 30 | gamma:  0.204335971786\n",
      "  -> loss_tr: 0.3483962613405217\n",
      "  -> loss_te: 0.34907586931874274\n",
      "Step 26 over 30 | gamma:  0.280721620394\n",
      "  -> loss_tr: 0.35452547361417336\n",
      "  -> loss_te: 0.355130033528093\n",
      "Step 27 over 30 | gamma:  0.385662042116\n",
      "  -> loss_tr: 0.36175568871946406\n",
      "  -> loss_te: 0.36223459220616294\n",
      "Step 28 over 30 | gamma:  0.529831690628\n",
      "  -> loss_tr: 0.3700888329472706\n",
      "  -> loss_te: 0.3704357427617426\n",
      "Step 29 over 30 | gamma:  0.727895384398\n",
      "  -> loss_tr: 0.37942227835740644\n",
      "  -> loss_te: 0.379660581937184\n",
      "Step 30 over 30 | gamma:  1.0\n",
      "  -> loss_tr: 0.3895516841708898\n",
      "  -> loss_te: 0.389713640123702\n"
     ]
    }
   ],
   "source": [
    "from cross_validation import *\n",
    "\n",
    "k_fold = 2\n",
    "nbPoints = 30\n",
    "lambdas = np.logspace(-4, 0, nbPoints)\n",
    "losses_tr = []\n",
    "losses_te = []\n",
    "\n",
    "#print(\"Gammas: {}\".format(gammas))\n",
    "\n",
    "i = 0    \n",
    "for lam in lambdas:\n",
    "    i = i + 1\n",
    "    print(\"Step\", i, \"over\", nbPoints, \"| gamma: \", lam)\n",
    "    loss_train = []\n",
    "    loss_test = []\n",
    "    initial_w = np.zeros((tXTr.shape[1]))\n",
    "     \n",
    "    for k in range (k_fold):\n",
    "        loss_tr, loss_te = cross_validation(y, tXTr, k_fold, k, lam, initial_w, 0, \"ridge_regression\")\n",
    "        loss_train.append(loss_tr)\n",
    "        loss_test.append(loss_te)\n",
    "        \n",
    "    \n",
    "    # rmse of the mean mse\n",
    "    loss_tr = np.sum(loss_train, axis=0)/k_fold\n",
    "    loss_te = np.sum(loss_test, axis=0)/k_fold\n",
    "    losses_tr.append(loss_tr)\n",
    "    losses_te.append(loss_te)\n",
    "    print(\"  -> loss_tr: {}\\n  -> loss_te: {}\".format(loss_tr, loss_te))\n",
    "\n"
   ]
  },
  {
   "cell_type": "code",
   "execution_count": 55,
   "metadata": {
    "collapsed": false
   },
   "outputs": [
    {
     "data": {
      "image/png": "[encoded data removed]",
      "text/plain": [
       "<matplotlib.figure.Figure at 0x7f8011e37860>"
      ]
     },
     "metadata": {},
     "output_type": "display_data"
    }
   ],
   "source": [
    "plt.semilogx(lambdas, losses_tr, marker=\".\", color='b', label='train error')\n",
    "plt.semilogx(lambdas, losses_te, marker=\".\", color='r', label='test error')\n",
    "plt.xlabel(\"Lambdas\")\n",
    "plt.ylabel(\"rmse\")\n",
    "plt.title(\"Ridge Regression\")\n",
    "plt.legend(loc=2)\n",
    "plt.grid(True)\n",
    "plt.savefig(\"cross_validation_ridge_d5\")"
   ]
  },
  {
   "cell_type": "markdown",
   "metadata": {
    "collapsed": true
   },
   "source": [
    "=> Lambda : 10e-3"
   ]
  },
  {
   "cell_type": "markdown",
   "metadata": {},
   "source": [
    "## Predict"
   ]
  },
  {
   "cell_type": "code",
   "execution_count": 56,
   "metadata": {
    "collapsed": false
   },
   "outputs": [
    {
     "name": "stdout",
     "output_type": "stream",
     "text": [
      "(568238, 30)\n"
     ]
    }
   ],
   "source": [
    "DATA_TEST_PATH = '../data/test.csv'\n",
    "_, tX_test, ids_test = load_csv_data(DATA_TEST_PATH)\n",
    "print(tX_test.shape)"
   ]
  },
  {
   "cell_type": "code",
   "execution_count": 57,
   "metadata": {
    "collapsed": false,
    "scrolled": true
   },
   "outputs": [],
   "source": [
    "lambda_ = 0.0001\n",
    "\n",
    "train_w, loss_tr = ridge_regression(y, tXTr, lambda_)\n",
    "\n",
    "\n",
    "tXTe = polynomialBasis(tX_test, 5)\n",
    "tXTe, mean_, std_ = standardize(tXTe)\n",
    "\n"
   ]
  },
  {
   "cell_type": "code",
   "execution_count": 58,
   "metadata": {
    "collapsed": false
   },
   "outputs": [],
   "source": [
    "OUTPUT_PATH = '../output/out-ridge-d5.csv'\n",
    "\n",
    "y_pred = predict_labels(train_w, tXTe)\n",
    "\n",
    "create_csv_submission(ids_test, y_pred, OUTPUT_PATH)"
   ]
  },
  {
   "cell_type": "code",
   "execution_count": null,
   "metadata": {
    "collapsed": true
   },
   "outputs": [],
   "source": []
  },
  {
   "cell_type": "code",
   "execution_count": null,
   "metadata": {
    "collapsed": true
   },
   "outputs": [],
   "source": []
  },
  {
   "cell_type": "code",
   "execution_count": null,
   "metadata": {
    "collapsed": true
   },
   "outputs": [],
   "source": []
  }
 ],
 "metadata": {
  "kernelspec": {
   "display_name": "Python [Root]",
   "language": "python",
   "name": "Python [Root]"
  },
  "language_info": {
   "codemirror_mode": {
    "name": "ipython",
    "version": 3
   },
   "file_extension": ".py",
   "mimetype": "text/x-python",
   "name": "python",
   "nbconvert_exporter": "python",
   "pygments_lexer": "ipython3",
   "version": "3.5.2"
  }
 },
 "nbformat": 4,
 "nbformat_minor": 1
}
