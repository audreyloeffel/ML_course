{
 "cells": [
  {
   "cell_type": "code",
   "execution_count": 20,
   "metadata": {
    "collapsed": false
   },
   "outputs": [
    {
     "name": "stdout",
     "output_type": "stream",
     "text": [
      "The autoreload extension is already loaded. To reload it, use:\n",
      "  %reload_ext autoreload\n"
     ]
    }
   ],
   "source": [
    "# Useful starting lines\n",
    "%matplotlib inline\n",
    "import numpy as np\n",
    "import matplotlib.pyplot as plt\n",
    "%load_ext autoreload\n",
    "%autoreload 2"
   ]
  },
  {
   "cell_type": "markdown",
   "metadata": {},
   "source": [
    "## Load the training data into feature matrix, class labels, and event ids:"
   ]
  },
  {
   "cell_type": "code",
   "execution_count": 21,
   "metadata": {
    "collapsed": false
   },
   "outputs": [],
   "source": [
    "from proj1_helpers import *\n",
    "DATA_TRAIN_PATH = '../data/train.csv' # TODO: download train data and supply path here \n",
    "y, tX, ids = load_csv_data(DATA_TRAIN_PATH)"
   ]
  },
  {
   "cell_type": "markdown",
   "metadata": {},
   "source": [
    "## Do your thing crazy machine learning thing here :) ..."
   ]
  },
  {
   "cell_type": "markdown",
   "metadata": {
    "collapsed": false
   },
   "source": [
    "### Prepare the data"
   ]
  },
  {
   "cell_type": "code",
   "execution_count": 22,
   "metadata": {
    "collapsed": false
   },
   "outputs": [],
   "source": [
    "from helpers import standardize\n",
    "\n",
    "def prepare(x):\n",
    "    \"\"\"\n",
    "    Prepare the data by standardizing and replacing unused \n",
    "    values (-999) by the mean of their columns such that they\n",
    "    don't affect the computation then.\n",
    "    \"\"\"\n",
    "    # Here we put the non sense values (-999) to 0 or mean \n",
    "    # such that they don't affect too much the prediction then\n",
    "    xt = np.copy(x.T)\n",
    "    for xi in xt:\n",
    "        xi[xi==-999] = np.nan\n",
    "        m = np.nanmean(xi)\n",
    "        nanidx = np.where(np.isnan(xi))\n",
    "        xi[nanidx] = m\n",
    "        \n",
    "    tx, mean, std = standardize(xt.T)\n",
    "    \n",
    "    return tx        \n",
    "\n",
    "\n",
    "tx = prepare(tX)"
   ]
  },
  {
   "cell_type": "code",
   "execution_count": null,
   "metadata": {
    "collapsed": false
   },
   "outputs": [],
   "source": [
    "        "
   ]
  },
  {
   "cell_type": "markdown",
   "metadata": {},
   "source": [
    "### Exploratory data analysis"
   ]
  },
  {
   "cell_type": "code",
   "execution_count": 23,
   "metadata": {
    "collapsed": false
   },
   "outputs": [
    {
     "name": "stdout",
     "output_type": "stream",
     "text": [
      "Number of data entries: 250000\n",
      "Number of feature: 31\n",
      "(250000, 31)\n",
      "(250000,)\n",
      "[ 1. -1. -1. ...,  1. -1. -1.]\n"
     ]
    }
   ],
   "source": [
    "rows, features = tx.shape\n",
    "print('Number of data entries:', rows)\n",
    "print('Number of feature:', features)\n",
    "print(tx.shape)\n",
    "print(tx[:, 1].shape)\n",
    "print(y)"
   ]
  },
  {
   "cell_type": "code",
   "execution_count": 24,
   "metadata": {
    "collapsed": false
   },
   "outputs": [
    {
     "name": "stdout",
     "output_type": "stream",
     "text": [
      "[ 1.  1.  1. ...,  1.  1.  1.]\n"
     ]
    },
    {
     "data": {
      "image/png": "[encoded data removed]",
      "text/plain": [
       "<matplotlib.figure.Figure at 0x7f74f67efcc0>"
      ]
     },
     "metadata": {},
     "output_type": "display_data"
    }
   ],
   "source": [
    "plt.rcParams['agg.path.chunksize'] = 10000\n",
    "feature1 = tx[:, 0]\n",
    "print(feature1)\n",
    "plt.scatter(feature1, y)\n",
    "plt.xlabel('x')\n",
    "plt.ylabel('y: prediction')\n",
    "plt.show()"
   ]
  },
  {
   "cell_type": "code",
   "execution_count": 25,
   "metadata": {
    "collapsed": false
   },
   "outputs": [],
   "source": [
    "for f in range(0, 0):\n",
    "    featureData = tx[:, f]\n",
    "    plt.scatter(featureData, y)\n",
    "    plt.xlabel('x')\n",
    "    plt.ylabel('y: prediction')\n",
    "    plt.show()"
   ]
  },
  {
   "cell_type": "markdown",
   "metadata": {},
   "source": [
    "### Exploratory data comments"
   ]
  },
  {
   "cell_type": "markdown",
   "metadata": {},
   "source": [
    "For feature : \n",
    "\n",
    "    4-  > 40 =>  1\n",
    "    5-  > 6  =>  1\n",
    "    \n",
    "    1-  > 20 => -1 [10,20] => more likely to be -1\n",
    "    3-  > 20 => -1\n",
    "    21- > 10 => -1\n",
    "    26- > 22 => -1\n",
    "    29- > 13 => -1\n",
    "    "
   ]
  },
  {
   "cell_type": "markdown",
   "metadata": {},
   "source": [
    "## Process the Machine Learning"
   ]
  },
  {
   "cell_type": "markdown",
   "metadata": {},
   "source": [
    "#### Differents learning methods"
   ]
  },
  {
   "cell_type": "code",
   "execution_count": 26,
   "metadata": {
    "collapsed": false
   },
   "outputs": [],
   "source": [
    "from least_squares import *\n",
    "from regression import *\n",
    "\n",
    "def learn_with(method, y, tx, gamma=0.05, max_iters=10, lambda_=0.1):\n",
    "    \n",
    "    initial_w, loss = least_squares(y, tx)\n",
    "    \n",
    "    if method == 'least_square_GD': \n",
    "        return least_squares_GD(y, tx, initial_w, max_iters, gamma)\n",
    "\n",
    "    if method == 'least_square_SGD': \n",
    "        return least_squares_SGD(y, tx, initial_w, max_iters, gamma)\n",
    "\n",
    "    if method == 'logistic_regression': \n",
    "        return logistic_regression(y, tx, initial_w, max_iters, gamma)\n",
    "\n",
    "    if method == 'reg_logistic_regression': \n",
    "        return reg_logisitic_regression(y, tx, lambda_, initial_w, max_iters, gamma)\n",
    "    \n",
    "    if method == 'ridge_regression': \n",
    "        return ridge_regression(y, tx, lambda_)\n",
    "    \n",
    "    return initial_w, loss"
   ]
  },
  {
   "cell_type": "markdown",
   "metadata": {},
   "source": [
    "#### Training phase"
   ]
  },
  {
   "cell_type": "code",
   "execution_count": 27,
   "metadata": {
    "collapsed": true
   },
   "outputs": [],
   "source": [
    "def compare_least_squares(y, tx):\n",
    "    w3, l3 = learn_with(\"least_square\", y, tx)\n",
    "    w2, l2 = learn_with(\"least_square_GD\", y, tx, 0.15, 50)\n",
    "    w1, l1 = learn_with(\"least_square_SGD\", y, tx, 0.5, 50)\n",
    "    print(\"SGD\")\n",
    "    print(l1)\n",
    "    print(w1)\n",
    "    print(\"GD\")\n",
    "    print(l2)\n",
    "    print(w2)\n",
    "    print(\"--\")\n",
    "    print(l3)\n",
    "    print(w3)\n",
    "    "
   ]
  },
  {
   "cell_type": "code",
   "execution_count": 28,
   "metadata": {
    "collapsed": true
   },
   "outputs": [],
   "source": [
    "def compare_regression(y, tx):\n",
    "    w1, l1 = learn_with('logistic_regression', y, tx)\n",
    "    print(\"Log reg\")\n",
    "    print(l1)\n",
    "    print(w1)\n",
    "    #print(compute_loss(y, tx, w1))\n",
    "    w2, l2 = learn_with('reg_logistic_regression', y, tx, 0.05, 200, 0.01)\n",
    "    print(\"Reg Log reg\")\n",
    "    print(l2)\n",
    "    print(w2)\n",
    "    #print(compute_loss(y, tx, w2))\n",
    "    w3, l3 = learn_with(\"ridge_regression\", y, tx)\n",
    "    print(\"Ridge reg\")\n",
    "    print(calculate_nll(y, tx, w3))\n",
    "    #print(l3)\n",
    "    print(w3)"
   ]
  },
  {
   "cell_type": "code",
   "execution_count": 29,
   "metadata": {
    "collapsed": false
   },
   "outputs": [
    {
     "name": "stdout",
     "output_type": "stream",
     "text": [
      "Log reg\n",
      "65048.4550857\n",
      "[ -1.08131625e+05   7.33879071e+02  -3.52269319e+04  -9.92863196e+02\n",
      "   1.27173396e+04   1.24665933e+04   1.19225391e+04  -1.07681765e+04\n",
      "   7.05672498e+03  -3.48333001e+03   7.65968928e+03  -1.91096163e+04\n",
      "   2.47876446e+04   1.26680094e+04   1.94387174e+04  -1.12274199e+02\n",
      "  -5.30804881e+02  -4.34158198e+03   1.28255138e+02   4.06323471e+02\n",
      "  -2.79558770e+03   6.62537008e+02   6.78547000e+03   7.50895687e+03\n",
      "   2.49609491e+03  -1.51242094e+00  -8.89434919e+00  -3.75711947e+03\n",
      "   9.81554724e+01  -2.56636300e+02   6.27117378e+03]\n",
      "Iter 0 loss = -0.118402858539\n",
      "Iter 100 loss = 7.47548449906\n",
      "Reg Log reg\n",
      "31.9073052643\n",
      "[ -2.69910161e+01   4.95257513e-02  -1.09105528e+01  -1.12427494e+01\n",
      "   2.27598925e+00   1.22048205e+00   1.90969102e+00   6.69092593e-01\n",
      "   1.28981052e+01  -8.48448243e-01   2.15333792e+00  -9.90215640e+00\n",
      "   5.12505548e+00   2.87887456e+00   5.30097634e+00  -1.66304761e-02\n",
      "  -2.74645041e-02   1.22540323e+01  -3.45047683e-02   8.23562595e-02\n",
      "   2.61382731e+00   1.35426926e-02  -1.94936488e+00   4.03783930e-01\n",
      "  -2.60030377e+00   8.98818279e-03   2.63620248e-03  -1.24406777e+00\n",
      "   5.74239489e-02  -6.50441817e-02  -7.31107954e-01]\n",
      "Ridge reg\n",
      "-0.327378193121\n",
      "[ -2.62220000e-01  -9.03545417e-03  -1.95807087e-01  -7.76651831e-02\n",
      "   4.31464970e-02   3.97247887e-02   5.51327349e-02  -1.56271773e-02\n",
      "   1.33769916e-01  -2.84587707e-02   3.25924640e-02  -9.00124557e-02\n",
      "   1.09602638e-01   6.52223044e-02   1.26086921e-01  -1.03801472e-03\n",
      "  -1.86431259e-03   8.50482556e-02  -5.70905940e-04   2.39798751e-03\n",
      "   2.93313625e-02   1.74798353e-03  -1.06196347e-02   1.20834977e-02\n",
      "  -1.80888424e-02   2.54093812e-04   4.44767892e-04  -3.37513444e-02\n",
      "   1.28024184e-03  -1.26714025e-03  -9.50155608e-03]\n"
     ]
    }
   ],
   "source": [
    "compare_regression(y, tx)"
   ]
  },
  {
   "cell_type": "code",
   "execution_count": 41,
   "metadata": {
    "collapsed": false
   },
   "outputs": [
    {
     "name": "stdout",
     "output_type": "stream",
     "text": [
      "Step 1 over 30\n",
      "Step 2 over 30\n",
      "Step 3 over 30\n",
      "Step 4 over 30\n",
      "Step 5 over 30\n",
      "Step 6 over 30\n",
      "Step 7 over 30\n",
      "Step 8 over 30\n",
      "Step 9 over 30\n",
      "Step 10 over 30\n",
      "Step 11 over 30\n",
      "Step 12 over 30\n",
      "Step 13 over 30\n",
      "Step 14 over 30\n",
      "Step 15 over 30\n",
      "Step 16 over 30\n",
      "Step 17 over 30\n",
      "Step 18 over 30\n",
      "Step 19 over 30\n",
      "Step 20 over 30\n",
      "Step 21 over 30\n",
      "Step 22 over 30\n",
      "Step 23 over 30\n",
      "Step 24 over 30\n",
      "Step 25 over 30\n",
      "Step 26 over 30\n",
      "Step 27 over 30\n",
      "Step 28 over 30\n",
      "Step 29 over 30\n",
      "Step 30 over 30\n",
      "30\n",
      "30\n",
      "30\n"
     ]
    },
    {
     "data": {
      "image/png": "[encoded data removed]",
      "text/plain": [
       "<matplotlib.figure.Figure at 0x7f74d4be7d30>"
      ]
     },
     "metadata": {},
     "output_type": "display_data"
    }
   ],
   "source": [
    "def train(y, tx):\n",
    "    \n",
    "    w, loss = learn_with(\"least_square_GD\", y, tx)\n",
    "    \n",
    "    return w, loss\n",
    "\n",
    "#loss, weights = train(y, tx)\n",
    "#compare_least_squares(y, tx)\n",
    "#compare_regression(y, tx)\n",
    "#w, l = least_squares(y, tx)\n",
    "#print(calculate_nll(y, tx, w))\n",
    "\n",
    "from cross_validation import cross_validation_demo\n",
    "\n",
    "initial_w = np.zeros((tx.shape[1]))\n",
    "gamma = 0.5\n",
    "\n",
    "cross_validation_demo(y, tx, initial_w, gamma)"
   ]
  },
  {
   "cell_type": "markdown",
   "metadata": {},
   "source": [
    "Maybie a problem with loss computation ? To what should we go ? Here loss is going to inf or -inf depending on the lambdas and gamma.."
   ]
  },
  {
   "cell_type": "markdown",
   "metadata": {},
   "source": [
    "## Generate predictions and save ouput in csv format for submission:"
   ]
  },
  {
   "cell_type": "code",
   "execution_count": 19,
   "metadata": {
    "collapsed": false
   },
   "outputs": [
    {
     "ename": "NameError",
     "evalue": "name 'cross_validation_demo' is not defined",
     "output_type": "error",
     "traceback": [
      "\u001b[1;31m---------------------------------------------------------------------------\u001b[0m",
      "\u001b[1;31mNameError\u001b[0m                                 Traceback (most recent call last)",
      "\u001b[1;32m<ipython-input-19-6225098e5a2f>\u001b[0m in \u001b[0;36m<module>\u001b[1;34m()\u001b[0m\n\u001b[0;32m      1\u001b[0m \u001b[0minitial_w\u001b[0m\u001b[1;33m,\u001b[0m \u001b[0mloss\u001b[0m \u001b[1;33m=\u001b[0m \u001b[0mleast_squares\u001b[0m\u001b[1;33m(\u001b[0m\u001b[0my\u001b[0m\u001b[1;33m,\u001b[0m \u001b[0mtx\u001b[0m\u001b[1;33m)\u001b[0m\u001b[1;33m\u001b[0m\u001b[0m\n\u001b[1;32m----> 2\u001b[1;33m \u001b[0mweights\u001b[0m\u001b[1;33m,\u001b[0m \u001b[0mloss\u001b[0m \u001b[1;33m=\u001b[0m \u001b[0mcross_validation_demo\u001b[0m\u001b[1;33m(\u001b[0m\u001b[0my\u001b[0m\u001b[1;33m,\u001b[0m \u001b[0mtx\u001b[0m\u001b[1;33m,\u001b[0m \u001b[0minitial_w\u001b[0m\u001b[1;33m,\u001b[0m \u001b[0mgamma\u001b[0m\u001b[1;33m)\u001b[0m\u001b[1;33m\u001b[0m\u001b[0m\n\u001b[0m\u001b[0;32m      3\u001b[0m \u001b[0mprint\u001b[0m\u001b[1;33m(\u001b[0m\u001b[0mweights\u001b[0m\u001b[1;33m)\u001b[0m\u001b[1;33m\u001b[0m\u001b[0m\n",
      "\u001b[1;31mNameError\u001b[0m: name 'cross_validation_demo' is not defined"
     ]
    }
   ],
   "source": [
    "weights, loss = least_squares(y, tx)\n",
    "print(weights)"
   ]
  },
  {
   "cell_type": "code",
   "execution_count": 17,
   "metadata": {
    "collapsed": false
   },
   "outputs": [],
   "source": [
    "DATA_TEST_PATH = '../data/test.csv'\n",
    "_, tX_test, ids_test = load_csv_data(DATA_TEST_PATH)\n",
    "\n",
    "\n",
    "tx_Test_norm = prepare(tX_test)\n"
   ]
  },
  {
   "cell_type": "code",
   "execution_count": 18,
   "metadata": {
    "collapsed": false
   },
   "outputs": [],
   "source": [
    "OUTPUT_PATH = '../output/out.csv' # TODO: fill in desired name of output file for submission\n",
    "y_pred = predict_labels(weights, tx_Test_norm)\n",
    "\n",
    "create_csv_submission(ids_test, y_pred, OUTPUT_PATH)"
   ]
  },
  {
   "cell_type": "code",
   "execution_count": null,
   "metadata": {
    "collapsed": true
   },
   "outputs": [],
   "source": []
  }
 ],
 "metadata": {
  "anaconda-cloud": {},
  "kernelspec": {
   "display_name": "Python [Root]",
   "language": "python",
   "name": "Python [Root]"
  },
  "language_info": {
   "codemirror_mode": {
    "name": "ipython",
    "version": 3
   },
   "file_extension": ".py",
   "mimetype": "text/x-python",
   "name": "python",
   "nbconvert_exporter": "python",
   "pygments_lexer": "ipython3",
   "version": "3.5.2"
  }
 },
 "nbformat": 4,
 "nbformat_minor": 0
}
