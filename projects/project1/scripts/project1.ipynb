{
 "cells": [
  {
   "cell_type": "code",
   "execution_count": 2,
   "metadata": {
    "collapsed": false
   },
   "outputs": [],
   "source": [
    "# Useful starting lines\n",
    "%matplotlib inline\n",
    "import numpy as np\n",
    "import matplotlib.pyplot as plt\n",
    "%load_ext autoreload\n",
    "%autoreload 2"
   ]
  },
  {
   "cell_type": "markdown",
   "metadata": {},
   "source": [
    "## Load the training data into feature matrix, class labels, and event ids:"
   ]
  },
  {
   "cell_type": "code",
   "execution_count": 3,
   "metadata": {
    "collapsed": false
   },
   "outputs": [],
   "source": [
    "from proj1_helpers import *\n",
    "DATA_TRAIN_PATH = '../data/train.csv' # TODO: download train data and supply path here \n",
    "y, tX, ids = load_csv_data(DATA_TRAIN_PATH)"
   ]
  },
  {
   "cell_type": "markdown",
   "metadata": {},
   "source": [
    "## Do your thing crazy machine learning thing here :) ..."
   ]
  },
  {
   "cell_type": "markdown",
   "metadata": {
    "collapsed": false
   },
   "source": [
    "### Prepare the data"
   ]
  },
  {
   "cell_type": "code",
   "execution_count": 4,
   "metadata": {
    "collapsed": false
   },
   "outputs": [],
   "source": [
    "from helpers import standardize\n",
    "\n",
    "def prepare(x):\n",
    "    \"\"\"\n",
    "    Prepare the data by standardizing and replacing unused \n",
    "    values (-999) by the mean of their columns such that they\n",
    "    don't affect the computation then.\n",
    "    \"\"\"\n",
    "    # Here we put the non sense values (-999) to 0 or mean \n",
    "    # such that they don't affect too much the prediction then\n",
    "    xt = np.copy(x.T)\n",
    "    for xi in xt:\n",
    "        xi[xi==-999] = np.nan\n",
    "        m = np.nanmean(xi)\n",
    "        nanidx = np.where(np.isnan(xi))\n",
    "        xi[nanidx] = m\n",
    "        \n",
    "    tx, mean, std = standardize(xt.T)\n",
    "    \n",
    "    return tx        \n",
    "\n",
    "\n",
    "tx = prepare(tX)"
   ]
  },
  {
   "cell_type": "code",
   "execution_count": null,
   "metadata": {
    "collapsed": false
   },
   "outputs": [],
   "source": [
    "        "
   ]
  },
  {
   "cell_type": "markdown",
   "metadata": {},
   "source": [
    "### Exploratory data analysis"
   ]
  },
  {
   "cell_type": "code",
   "execution_count": 5,
   "metadata": {
    "collapsed": false
   },
   "outputs": [
    {
     "name": "stdout",
     "output_type": "stream",
     "text": [
      "Number of data entries: 250000\n",
      "Number of feature: 31\n",
      "(250000, 31)\n",
      "(250000,)\n",
      "[ 1. -1. -1. ...,  1. -1. -1.]\n"
     ]
    }
   ],
   "source": [
    "rows, features = tx.shape\n",
    "print('Number of data entries:', rows)\n",
    "print('Number of feature:', features)\n",
    "print(tx.shape)\n",
    "print(tx[:, 1].shape)\n",
    "print(y)"
   ]
  },
  {
   "cell_type": "code",
   "execution_count": 16,
   "metadata": {
    "collapsed": false
   },
   "outputs": [
    {
     "data": {
      "image/png": "[encoded data removed]",
      "text/plain": [
       "<matplotlib.figure.Figure at 0x7ff4afe4f748>"
      ]
     },
     "metadata": {},
     "output_type": "display_data"
    }
   ],
   "source": [
    "plt.rcParams['agg.path.chunksize'] = 10000\n",
    "feature1 = tx[:, 1]\n",
    "plt.scatter(feature1, y)\n",
    "plt.xlabel('x')\n",
    "plt.ylabel('y: prediction')\n",
    "plt.show()"
   ]
  },
  {
   "cell_type": "code",
   "execution_count": 7,
   "metadata": {
    "collapsed": false
   },
   "outputs": [],
   "source": [
    "for f in range(0, 0):\n",
    "    featureData = tx[:, f]\n",
    "    plt.scatter(featureData, y)\n",
    "    plt.xlabel('x')\n",
    "    plt.ylabel('y: prediction')\n",
    "    plt.show()"
   ]
  },
  {
   "cell_type": "markdown",
   "metadata": {},
   "source": [
    "### Exploratory data comments"
   ]
  },
  {
   "cell_type": "markdown",
   "metadata": {},
   "source": [
    "For feature : \n",
    "\n",
    "    4-  > 40 =>  1\n",
    "    5-  > 6  =>  1\n",
    "    \n",
    "    1-  > 20 => -1 [10,20] => more likely to be -1\n",
    "    3-  > 20 => -1\n",
    "    21- > 10 => -1\n",
    "    26- > 22 => -1\n",
    "    29- > 13 => -1\n",
    "    "
   ]
  },
  {
   "cell_type": "markdown",
   "metadata": {},
   "source": [
    "## Process the Machine Learning"
   ]
  },
  {
   "cell_type": "markdown",
   "metadata": {},
   "source": [
    "#### Differents learning methods"
   ]
  },
  {
   "cell_type": "code",
   "execution_count": 8,
   "metadata": {
    "collapsed": false
   },
   "outputs": [],
   "source": [
    "from least_squares import *\n",
    "from regression import *\n",
    "\n",
    "def learn_with(method, y, tx, gamma=0.05, max_iters=10, lambda_=0.1):\n",
    "    \n",
    "    initial_w, loss = least_squares(y, tx)\n",
    "    \n",
    "    if method == 'least_square_GD': \n",
    "        return least_squares_GD(y, tx, initial_w, max_iters, gamma)\n",
    "\n",
    "    if method == 'least_square_SGD': \n",
    "        return least_squares_SGD(y, tx, initial_w, max_iters, gamma)\n",
    "\n",
    "    if method == 'logistic_regression': \n",
    "        return logistic_regression(y, tx, initial_w, max_iters, gamma)\n",
    "\n",
    "    if method == 'reg_logistic_regression': \n",
    "        return reg_logisitic_regression(y, tx, lambda_, initial_w, max_iters, gamma)\n",
    "    \n",
    "    if method == 'ridge_regression': \n",
    "        return ridge_regression(y, tx, lambda_)\n",
    "    \n",
    "    return initial_w, loss"
   ]
  },
  {
   "cell_type": "markdown",
   "metadata": {},
   "source": [
    "#### Training phase"
   ]
  },
  {
   "cell_type": "code",
   "execution_count": 9,
   "metadata": {
    "collapsed": true
   },
   "outputs": [],
   "source": [
    "def compare_least_squares(y, tx):\n",
    "    w3, l3 = learn_with(\"least_square\", y, tx)\n",
    "    w2, l2 = learn_with(\"least_square_GD\", y, tx, 0.15, 50)\n",
    "    w1, l1 = learn_with(\"least_square_SGD\", y, tx, 0.5, 50)\n",
    "    print(\"SGD\")\n",
    "    print(l1)\n",
    "    print(w1)\n",
    "    print(\"GD\")\n",
    "    print(l2)\n",
    "    print(w2)\n",
    "    print(\"--\")\n",
    "    print(l3)\n",
    "    print(w3)\n",
    "    "
   ]
  },
  {
   "cell_type": "code",
   "execution_count": 10,
   "metadata": {
    "collapsed": true
   },
   "outputs": [],
   "source": [
    "def compare_regression(y, tx):\n",
    "    w1, l1 = learn_with('logistic_regression', y, tx)\n",
    "    print(\"Log reg\")\n",
    "    print(l1)\n",
    "    print(w1)\n",
    "    #print(compute_loss(y, tx, w1))\n",
    "    w2, l2 = learn_with('reg_logistic_regression', y, tx, 0.2, 200, 0.1)\n",
    "    print(\"Reg Log reg\")\n",
    "    print(l2)\n",
    "    print(w2)\n",
    "    #print(compute_loss(y, tx, w2))\n",
    "    w3, l3 = learn_with(\"ridge_regression\", y, tx)\n",
    "    print(\"Ridge reg\")\n",
    "    print(calculate_nll(y, tx, w3))\n",
    "    #print(l3)\n",
    "    print(w3)"
   ]
  },
  {
   "cell_type": "markdown",
   "metadata": {},
   "source": [
    "Here we try to separate the different features of w and compute the minimum loss for each using the polynomial regression"
   ]
  },
  {
   "cell_type": "code",
   "execution_count": 11,
   "metadata": {
    "collapsed": false
   },
   "outputs": [],
   "source": [
    "def separate (y, tx):\n",
    "    return 0"
   ]
  },
  {
   "cell_type": "code",
   "execution_count": 12,
   "metadata": {
    "collapsed": false
   },
   "outputs": [
    {
     "name": "stdout",
     "output_type": "stream",
     "text": [
      "Step 1 over 30\n",
      "Iter 0 loss = 0.661113376857\n",
      "Iter 100 loss = 3.30815801991e+26\n",
      "Iter 0 loss = 0.66086339717\n",
      "Iter 100 loss = 2.51052759899e+28\n",
      "Step 2 over 30\n",
      "Iter 0 loss = 0.661113377174\n",
      "Iter 100 loss = 2.45998275552e+27\n",
      "Iter 0 loss = 0.660863413021\n",
      "Iter 100 loss = 1.58967536095e+29\n",
      "Step 3 over 30\n",
      "Iter 0 loss = 0.661113377117\n",
      "Iter 100 loss = 1.04901267569e+28\n",
      "Iter 0 loss = 0.660863424871\n",
      "Iter 100 loss = 5.64703169024e+29\n",
      "Step 4 over 30\n",
      "Iter 0 loss = 0.661113376839\n",
      "Iter 100 loss = 2.98747090635e+28\n",
      "Iter 0 loss = 0.660863433943\n",
      "Iter 100 loss = 1.31003349119e+30\n",
      "Step 5 over 30\n",
      "Iter 0 loss = 0.661113377244\n",
      "Iter 100 loss = 6.35691210597e+28\n",
      "Iter 0 loss = 0.660863440379\n",
      "Iter 100 loss = 2.2221600699e+30\n",
      "Step 6 over 30\n",
      "Iter 0 loss = 0.661113376721\n",
      "Iter 100 loss = 1.09620850687e+29\n",
      "Iter 0 loss = 0.660863444939\n",
      "Iter 100 loss = 2.99728671247e+30\n",
      "Step 7 over 30\n",
      "Iter 0 loss = 0.661113376991\n",
      "Iter 100 loss = 1.62452798315e+29\n",
      "Iter 0 loss = 0.660863448339\n",
      "Iter 100 loss = 3.41601673501e+30\n",
      "Step 8 over 30\n",
      "Iter 0 loss = 0.661113377004\n",
      "Iter 100 loss = 2.15826184305e+29\n",
      "Iter 0 loss = 0.66086345092\n",
      "Iter 100 loss = 3.43985648306e+30\n",
      "Step 9 over 30\n",
      "Iter 0 loss = 0.661113376908\n",
      "Iter 100 loss = 2.65033579247e+29\n",
      "Iter 0 loss = 0.660863452789\n",
      "Iter 100 loss = 3.16279585435e+30\n",
      "Step 10 over 30\n",
      "Iter 0 loss = 0.661113376923\n",
      "Iter 100 loss = 3.07616385313e+29\n",
      "Iter 0 loss = 0.660863454135\n",
      "Iter 100 loss = 2.71886413764e+30\n",
      "Step 11 over 30\n",
      "Iter 0 loss = 0.661113376882\n",
      "Iter 100 loss = 3.4321844676e+29\n",
      "Iter 0 loss = 0.660863455077\n",
      "Iter 100 loss = 2.22251730346e+30\n",
      "Step 12 over 30\n",
      "Iter 0 loss = 0.661113376944\n",
      "Iter 100 loss = 3.73081851123e+29\n",
      "Iter 0 loss = 0.660863455826\n",
      "Iter 100 loss = 1.74950981557e+30\n",
      "Step 13 over 30\n",
      "Iter 0 loss = 0.6611133769\n",
      "Iter 100 loss = 3.99573300149e+29\n",
      "Iter 0 loss = 0.660863456335\n",
      "Iter 100 loss = 1.33877986264e+30\n",
      "Step 14 over 30\n",
      "Iter 0 loss = 0.661113376936\n",
      "Iter 100 loss = 4.25516070649e+29\n",
      "Iter 0 loss = 0.660863456738\n",
      "Iter 100 loss = 1.00187906958e+30\n",
      "Step 15 over 30\n",
      "Iter 0 loss = 0.661113376915\n",
      "Iter 100 loss = 4.53712283506e+29\n",
      "Iter 0 loss = 0.660863456999\n",
      "Iter 100 loss = 7.34380999753e+29\n",
      "Step 16 over 30\n",
      "Iter 0 loss = 0.661113376917\n",
      "Iter 100 loss = 4.87326428656e+29\n",
      "Iter 0 loss = 0.660863457207\n",
      "Iter 100 loss = 5.24591127775e+29\n",
      "Step 17 over 30\n",
      "Iter 0 loss = 0.661113376923\n",
      "Iter 100 loss = 5.30131965387e+29\n",
      "Iter 0 loss = 0.660863457348\n",
      "Iter 100 loss = 3.59335772705e+29\n",
      "Step 18 over 30\n",
      "Iter 0 loss = 0.661113376922\n",
      "Iter 100 loss = 5.87241138582e+29\n",
      "Iter 0 loss = 0.660863457459\n",
      "Iter 100 loss = 2.25718317946e+29\n",
      "Step 19 over 30\n",
      "Iter 0 loss = 0.661113376917\n",
      "Iter 100 loss = 6.66254446609e+29\n",
      "Iter 0 loss = 0.660863457528\n",
      "Iter 100 loss = 1.11187738397e+29\n",
      "Step 20 over 30\n",
      "Iter 0 loss = 0.661113376919\n",
      "Iter 100 loss = 7.79215641917e+29\n",
      "Iter 0 loss = 0.660863457588\n",
      "Iter 100 loss = 2.79649556987e+27\n",
      "Step 21 over 30\n",
      "Iter 0 loss = 0.661113376921\n",
      "Iter 100 loss = 9.44747812845e+29\n",
      "Iter 0 loss = 0.660863457629\n",
      "Iter 100 loss = 1.03664083415e+29\n",
      "Step 22 over 30\n",
      "Iter 0 loss = 0.661113376919\n",
      "Iter 100 loss = 1.19109340149e+30\n",
      "Iter 0 loss = 0.66086345766\n",
      "Iter 100 loss = 2.29194091025e+29\n",
      "Step 23 over 30\n",
      "Iter 0 loss = 0.661113376919\n",
      "Iter 100 loss = 1.55792362793e+30\n",
      "Iter 0 loss = 0.660863457681\n",
      "Iter 100 loss = 3.94015945105e+29\n",
      "Step 24 over 30\n",
      "Iter 0 loss = 0.661113376919\n",
      "Iter 100 loss = 2.10266870288e+30\n",
      "Iter 0 loss = 0.660863457698\n",
      "Iter 100 loss = 6.24543458282e+29\n",
      "Step 25 over 30\n",
      "Iter 0 loss = 0.661113376919\n",
      "Iter 100 loss = 2.91093381475e+30\n",
      "Iter 0 loss = 0.66086345771\n",
      "Iter 100 loss = 9.58039172657e+29\n",
      "Step 26 over 30\n",
      "Iter 0 loss = 0.661113376919\n",
      "Iter 100 loss = 4.11889581663e+30\n",
      "Iter 0 loss = 0.660863457717\n",
      "Iter 100 loss = 1.45230139669e+30\n",
      "Step 27 over 30\n",
      "Iter 0 loss = 0.661113376919\n",
      "Iter 100 loss = 5.9552294235e+30\n",
      "Iter 0 loss = 0.660863457724\n",
      "Iter 100 loss = 2.20227912263e+30\n",
      "Step 28 over 30\n",
      "Iter 0 loss = 0.661113376919\n",
      "Iter 100 loss = 8.82529837748e+30\n",
      "Iter 0 loss = 0.660863457728\n",
      "Iter 100 loss = 3.37648524935e+30\n",
      "Step 29 over 30\n",
      "Iter 0 loss = 0.661113376919\n",
      "Iter 100 loss = 1.34928078428e+31\n",
      "Iter 0 loss = 0.660863457732\n",
      "Iter 100 loss = 5.29288039474e+30\n",
      "Step 30 over 30\n",
      "Iter 0 loss = 0.661113376919\n",
      "Iter 100 loss = 2.15001693361e+31\n",
      "Iter 0 loss = 0.660863457734\n",
      "Iter 100 loss = 8.59626594158e+30\n",
      "30\n",
      "30\n",
      "30\n"
     ]
    },
    {
     "data": {
      "image/png": "[encoded data removed]",
      "text/plain": [
       "<matplotlib.figure.Figure at 0x7ff4afe451d0>"
      ]
     },
     "metadata": {},
     "output_type": "display_data"
    }
   ],
   "source": [
    "def train(y, tx):\n",
    "    \n",
    "    w, loss = learn_with(\"least_square_GD\", y, tx)\n",
    "    \n",
    "    return w, loss\n",
    "\n",
    "#loss, weights = train(y, tx)\n",
    "#compare_least_squares(y, tx)\n",
    "#compare_regression(y, tx)\n",
    "#w, l = least_squares(y, tx)\n",
    "#print(calculate_nll(y, tx, w))\n",
    "\n",
    "from cross_validation import cross_validation_demo\n",
    "\n",
    "initial_w = np.zeros((tx.shape[1]))\n",
    "gamma = 0.1\n",
    "\n",
    "ty = np.copy(y)\n",
    "ty[ty==-1]=0\n",
    "\n",
    "cross_validation_demo(ty, tx, initial_w, gamma)"
   ]
  },
  {
   "cell_type": "markdown",
   "metadata": {},
   "source": [
    "Maybie a problem with loss computation ? To what should we go ? Here loss is going to inf or -inf depending on the lambdas and gamma.."
   ]
  },
  {
   "cell_type": "markdown",
   "metadata": {},
   "source": [
    "## Generate predictions and save ouput in csv format for submission:"
   ]
  },
  {
   "cell_type": "code",
   "execution_count": 13,
   "metadata": {
    "collapsed": false
   },
   "outputs": [
    {
     "name": "stdout",
     "output_type": "stream",
     "text": [
      "[ -3.14664000e-01   9.63458000e-03  -2.54719228e-01  -2.63502968e-01\n",
      "  -1.10181138e-03   2.18423831e-02   9.00537818e-02   4.83490552e-03\n",
      "   2.82008766e-01  -2.81502578e-02  -3.29277403e+02  -1.88141151e-01\n",
      "   1.18065030e-01   7.66172591e-02   6.39659203e+01  -7.79460481e-04\n",
      "  -8.30656821e-04   6.30817546e+01  -8.61168784e-04   2.51791346e-03\n",
      "   1.03659311e-01   9.33786079e-04  -4.70019027e-02   4.17575954e-02\n",
      "  -4.75783459e-02   6.50726388e-04   1.88755844e-04  -3.66001845e-02\n",
      "   1.55837343e-03  -1.74318684e-03   2.78942643e+02]\n"
     ]
    }
   ],
   "source": [
    "weights, loss = least_squares(y, tx)\n",
    "print(weights)"
   ]
  },
  {
   "cell_type": "code",
   "execution_count": 14,
   "metadata": {
    "collapsed": false
   },
   "outputs": [],
   "source": [
    "DATA_TEST_PATH = '../data/test.csv'\n",
    "_, tX_test, ids_test = load_csv_data(DATA_TEST_PATH)\n",
    "\n",
    "\n",
    "tx_Test_norm = prepare(tX_test)\n"
   ]
  },
  {
   "cell_type": "code",
   "execution_count": 15,
   "metadata": {
    "collapsed": false
   },
   "outputs": [],
   "source": [
    "OUTPUT_PATH = '../output/out.csv' # TODO: fill in desired name of output file for submission\n",
    "y_pred = predict_labels(weights, tx_Test_norm)\n",
    "\n",
    "create_csv_submission(ids_test, y_pred, OUTPUT_PATH)"
   ]
  },
  {
   "cell_type": "code",
   "execution_count": null,
   "metadata": {
    "collapsed": true
   },
   "outputs": [],
   "source": []
  }
 ],
 "metadata": {
  "anaconda-cloud": {},
  "kernelspec": {
   "display_name": "Python [Root]",
   "language": "python",
   "name": "Python [Root]"
  },
  "language_info": {
   "codemirror_mode": {
    "name": "ipython",
    "version": 3
   },
   "file_extension": ".py",
   "mimetype": "text/x-python",
   "name": "python",
   "nbconvert_exporter": "python",
   "pygments_lexer": "ipython3",
   "version": "3.5.2"
  }
 },
 "nbformat": 4,
 "nbformat_minor": 0
}
