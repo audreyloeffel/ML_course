{
 "cells": [
  {
   "cell_type": "markdown",
   "metadata": {},
   "source": [
    "# PCML PROJECT"
   ]
  },
  {
   "cell_type": "code",
   "execution_count": 1,
   "metadata": {
    "collapsed": false
   },
   "outputs": [],
   "source": [
    "# Useful starting lines\n",
    "%matplotlib inline\n",
    "import numpy as np\n",
    "import matplotlib.pyplot as plt\n",
    "%load_ext autoreload\n",
    "%autoreload 2"
   ]
  },
  {
   "cell_type": "markdown",
   "metadata": {},
   "source": [
    "## Load the training data into feature matrix, class labels, and event ids:"
   ]
  },
  {
   "cell_type": "code",
   "execution_count": 2,
   "metadata": {
    "collapsed": false,
    "scrolled": true
   },
   "outputs": [
    {
     "name": "stdout",
     "output_type": "stream",
     "text": [
      "(250000, 30)\n"
     ]
    }
   ],
   "source": [
    "from proj1_helpers import *\n",
    "DATA_TRAIN_PATH = '../data/train.csv' # TODO: download train data and supply path here \n",
    "y, tX, ids = load_csv_data(DATA_TRAIN_PATH)\n",
    "print(tX.shape)"
   ]
  },
  {
   "cell_type": "markdown",
   "metadata": {},
   "source": [
    "## Data Normalization "
   ]
  },
  {
   "cell_type": "code",
   "execution_count": 3,
   "metadata": {
    "collapsed": true
   },
   "outputs": [],
   "source": [
    "def normalize(tX):\n",
    "    nullValue = -999\n",
    "    tX[tX==nullValue] = 0\n",
    "    m = np.mean(tX, axis=0)\n",
    "    tX_centered = tX - m\n",
    "\n",
    "    tX_centered[tX_centered==0] = float('nan')\n",
    "    tX_std= np.nanstd(tX_centered, axis=0)\n",
    "    tX_centered[tX_centered==float('nan')] = 0\n",
    "    normalized = tX_centered / tX_std\n",
    "    return normalized"
   ]
  },
  {
   "cell_type": "code",
   "execution_count": 4,
   "metadata": {
    "collapsed": false
   },
   "outputs": [],
   "source": [
    "# Test normalize function\n",
    "#print(tX)\n",
    "#norm = normalize(tX)"
   ]
  },
  {
   "cell_type": "code",
   "execution_count": 120,
   "metadata": {
    "collapsed": true
   },
   "outputs": [],
   "source": [
    "# Probably useless\n",
    "\n",
    "def removeNullColumns(tX, threshold):\n",
    "    nullValue = -999\n",
    "    rows, columns = tX.shape\n",
    "    toDelete = []\n",
    "    \n",
    "    for column in range(0, columns):\n",
    "        xi = tX[column]\n",
    "        xi[xi == nullValue] = np.nan\n",
    "        m = np.nansum(xi)\n",
    "        if (m / rows > threshold):\n",
    "            toDelete.append(column)\n",
    "            \n",
    "    print(\"Columns deleted: \", toDelete)\n",
    "    new = np.delete(tX, toDelete)  \n",
    "    print(\"new\", new.shape)\n",
    "    return new\n",
    "        "
   ]
  },
  {
   "cell_type": "code",
   "execution_count": 75,
   "metadata": {
    "collapsed": true
   },
   "outputs": [],
   "source": [
    "# Probably useless too\n",
    "\n",
    "def replaceNullValue(tX):\n",
    "    nullValue = -999\n",
    "    rows, columns = tX.shape\n",
    "    x = tX\n",
    "    \n",
    "    for column in range(0, columns):\n",
    "        xi = x[column]\n",
    "        xi[xi == nullValue] = np.nan\n",
    "        mean = np.mean(xi)\n",
    "        nanIndex = np.where(np.isnan(xi))\n",
    "        xi[nanIndex] = mean\n",
    "        x[column] = xi\n",
    "    return tX"
   ]
  },
  {
   "cell_type": "markdown",
   "metadata": {},
   "source": [
    "## Process Machine Learning"
   ]
  },
  {
   "cell_type": "code",
   "execution_count": 25,
   "metadata": {
    "collapsed": true
   },
   "outputs": [],
   "source": [
    "from least_squares import *\n",
    "from regression import *\n",
    "\n",
    "def learn_with(method, y, tx, gamma=0.1, max_iters=5, lambda_=0.1):\n",
    "    if method == 'least_squares':\n",
    "        return least_squares(y, tx)\n",
    "    \n",
    "    if method == 'least_square_GD': \n",
    "        return least_squares_GD(y, tx, gamma, max_iters)\n",
    "\n",
    "    if method == 'least_square_SGD': \n",
    "        return least_squares_SGD(y, tx, gamma, max_iters)\n",
    "\n",
    "    if method == 'logistic_regression': \n",
    "        return logistic_regression(y, tx, gamma, max_iters)\n",
    "\n",
    "    if method == 'pen_logistic_regression': \n",
    "        return pen_logisitic_regression(y, tx, lambda_, gamma, max_iters)\n",
    "    \n",
    "    if method == 'ridge_regression': \n",
    "        return ridge_regression(y, tx, lambda_)\n",
    "    \n",
    "    return least_squares(y, tx)"
   ]
  },
  {
   "cell_type": "markdown",
   "metadata": {},
   "source": [
    "### Training"
   ]
  },
  {
   "cell_type": "code",
   "execution_count": 6,
   "metadata": {
    "collapsed": false
   },
   "outputs": [
    {
     "name": "stdout",
     "output_type": "stream",
     "text": [
      "(250000, 30)\n"
     ]
    },
    {
     "ename": "TypeError",
     "evalue": "least_squares_GD() missing 1 required positional argument: 'gamma'",
     "output_type": "error",
     "traceback": [
      "\u001b[0;31m---------------------------------------------------------------------------\u001b[0m",
      "\u001b[0;31mTypeError\u001b[0m                                 Traceback (most recent call last)",
      "\u001b[0;32m<ipython-input-6-1cd75f081db6>\u001b[0m in \u001b[0;36m<module>\u001b[0;34m()\u001b[0m\n\u001b[1;32m      4\u001b[0m \u001b[0mprint\u001b[0m\u001b[0;34m(\u001b[0m\u001b[0mnormalizedtX\u001b[0m\u001b[0;34m.\u001b[0m\u001b[0mshape\u001b[0m\u001b[0;34m)\u001b[0m\u001b[0;34m\u001b[0m\u001b[0m\n\u001b[1;32m      5\u001b[0m \u001b[0mx\u001b[0m \u001b[0;34m=\u001b[0m \u001b[0mnp\u001b[0m\u001b[0;34m.\u001b[0m\u001b[0mhstack\u001b[0m\u001b[0;34m(\u001b[0m\u001b[0;34m(\u001b[0m\u001b[0mnp\u001b[0m\u001b[0;34m.\u001b[0m\u001b[0mones\u001b[0m\u001b[0;34m(\u001b[0m\u001b[0;34m(\u001b[0m\u001b[0mnormalizedtX\u001b[0m\u001b[0;34m.\u001b[0m\u001b[0mshape\u001b[0m\u001b[0;34m[\u001b[0m\u001b[0;36m0\u001b[0m\u001b[0;34m]\u001b[0m\u001b[0;34m,\u001b[0m\u001b[0;36m1\u001b[0m\u001b[0;34m)\u001b[0m\u001b[0;34m)\u001b[0m\u001b[0;34m,\u001b[0m \u001b[0mnormalizedtX\u001b[0m\u001b[0;34m)\u001b[0m\u001b[0;34m)\u001b[0m\u001b[0;34m\u001b[0m\u001b[0m\n\u001b[0;32m----> 6\u001b[0;31m \u001b[0mloss\u001b[0m\u001b[0;34m,\u001b[0m \u001b[0mweights\u001b[0m \u001b[0;34m=\u001b[0m \u001b[0mlearn_with\u001b[0m\u001b[0;34m(\u001b[0m\u001b[0;34m\"least_square_GD\"\u001b[0m\u001b[0;34m,\u001b[0m \u001b[0my\u001b[0m\u001b[0;34m,\u001b[0m \u001b[0mx\u001b[0m\u001b[0;34m)\u001b[0m\u001b[0;34m\u001b[0m\u001b[0m\n\u001b[0m\u001b[1;32m      7\u001b[0m \u001b[0mprint\u001b[0m\u001b[0;34m(\u001b[0m\u001b[0mweights\u001b[0m\u001b[0;34m.\u001b[0m\u001b[0mshape\u001b[0m\u001b[0;34m)\u001b[0m\u001b[0;34m\u001b[0m\u001b[0m\n",
      "\u001b[0;32m<ipython-input-5-6f280013306a>\u001b[0m in \u001b[0;36mlearn_with\u001b[0;34m(method, y, tx, gamma, max_iters, lambda_)\u001b[0m\n\u001b[1;32m      7\u001b[0m \u001b[0;34m\u001b[0m\u001b[0m\n\u001b[1;32m      8\u001b[0m     \u001b[0;32mif\u001b[0m \u001b[0mmethod\u001b[0m \u001b[0;34m==\u001b[0m \u001b[0;34m'least_square_GD'\u001b[0m\u001b[0;34m:\u001b[0m\u001b[0;34m\u001b[0m\u001b[0m\n\u001b[0;32m----> 9\u001b[0;31m         \u001b[0;32mreturn\u001b[0m \u001b[0mleast_squares_GD\u001b[0m\u001b[0;34m(\u001b[0m\u001b[0my\u001b[0m\u001b[0;34m,\u001b[0m \u001b[0mtx\u001b[0m\u001b[0;34m,\u001b[0m \u001b[0mgamma\u001b[0m\u001b[0;34m,\u001b[0m \u001b[0mmax_iters\u001b[0m\u001b[0;34m)\u001b[0m\u001b[0;34m\u001b[0m\u001b[0m\n\u001b[0m\u001b[1;32m     10\u001b[0m \u001b[0;34m\u001b[0m\u001b[0m\n\u001b[1;32m     11\u001b[0m     \u001b[0;32mif\u001b[0m \u001b[0mmethod\u001b[0m \u001b[0;34m==\u001b[0m \u001b[0;34m'least_square_SGD'\u001b[0m\u001b[0;34m:\u001b[0m\u001b[0;34m\u001b[0m\u001b[0m\n",
      "\u001b[0;31mTypeError\u001b[0m: least_squares_GD() missing 1 required positional argument: 'gamma'"
     ]
    }
   ],
   "source": [
    "from helpers import standardize\n",
    "\n",
    "normalizedtX = normalize(tX)\n",
    "print(normalizedtX.shape)\n",
    "x = np.hstack((np.ones((normalizedtX.shape[0],1)), normalizedtX))\n",
    "loss, weights = learn_with(\"least_square_GD\", y, x)\n",
    "print(weights.shape)"
   ]
  },
  {
   "cell_type": "markdown",
   "metadata": {},
   "source": [
    "## Optimazing"
   ]
  },
  {
   "cell_type": "markdown",
   "metadata": {
    "collapsed": true
   },
   "source": [
    "## Improving Least_Squares\n",
    "\n",
    "We search the gamma parameter that minimize the loss."
   ]
  },
  {
   "cell_type": "code",
   "execution_count": 28,
   "metadata": {
    "collapsed": false,
    "scrolled": false
   },
   "outputs": [
    {
     "name": "stdout",
     "output_type": "stream",
     "text": [
      "Gammas: [ 0.          0.26315789  0.52631579  0.78947368  1.05263158  1.31578947\n",
      "  1.57894737  1.84210526  2.10526316  2.36842105  2.63157895  2.89473684\n",
      "  3.15789474  3.42105263  3.68421053  3.94736842  4.21052632  4.47368421\n",
      "  4.73684211  5.        ]\n",
      "Step 1 over 20\n",
      "   - loss_tr: 0.5, loss_te: 0.5\n",
      "Step 2 over 20\n",
      "   - loss_tr: 0.5085336822890578, loss_te: 0.5086016307583061\n",
      "Step 3 over 20\n",
      "   - loss_tr: 3645.1635245427115, loss_te: 3643.303624470588\n",
      "Step 4 over 20\n",
      "   - loss_tr: 541712.2625499992, loss_te: 541454.6051935814\n",
      "Step 5 over 20\n",
      "   - loss_tr: 14962963.260731965, loss_te: 14956066.905038977\n",
      "Step 6 over 20\n",
      "   - loss_tr: 180009140.45031607, loss_te: 179927665.66643944\n",
      "Step 7 over 20\n",
      "   - loss_tr: 1317270293.0330157, loss_te: 1316681087.0174541\n",
      "Step 8 over 20\n",
      "   - loss_tr: 6922208359.469227, loss_te: 6919137800.452879\n",
      "Step 9 over 20\n",
      "   - loss_tr: 28714407779.224968, loss_te: 28701749251.197037\n",
      "Step 10 over 20\n",
      "   - loss_tr: 99747795929.37666, loss_te: 99704032726.24866\n",
      "Step 11 over 20\n",
      "   - loss_tr: 301828009573.86914, loss_te: 301696089173.89795\n",
      "Step 12 over 20\n",
      "   - loss_tr: 817791102468.9573, loss_te: 817434776376.8517\n",
      "Step 13 over 20\n",
      "   - loss_tr: 2024238629980.9277, loss_te: 2023358902682.2322\n",
      "Step 14 over 20\n",
      "   - loss_tr: 4646774045234.776, loss_te: 4644758958255.582\n",
      "Step 15 over 20\n",
      "   - loss_tr: 10007819534119.299, loss_te: 10003487674679.566\n",
      "Step 16 over 20\n",
      "   - loss_tr: 20406886139616.32, loss_te: 20398067261787.42\n",
      "Step 17 over 20\n",
      "   - loss_tr: 39684898515599.56, loss_te: 39667772675041.05\n",
      "Step 18 over 20\n",
      "   - loss_tr: 74038014142632.38, loss_te: 74006102879639.22\n",
      "Step 19 over 20\n",
      "   - loss_tr: 133162500569643.22, loss_te: 133105168961067.92\n",
      "Step 20 over 20\n",
      "   - loss_tr: 231830818451717.6, loss_te: 231731104247959.8\n"
     ]
    },
    {
     "data": {
      "image/png": "[encoded data removed]",
      "text/plain": [
       "<matplotlib.figure.Figure at 0x7f46b5d10240>"
      ]
     },
     "metadata": {},
     "output_type": "display_data"
    }
   ],
   "source": [
    "from cross_validation import *\n",
    "\n",
    "k_fold = 2\n",
    "nbPoints = 20\n",
    "gammaRange = np.linspace(0, 5, nbPoints)\n",
    "losses_tr = []\n",
    "losses_te = []\n",
    "x_norm = normalize(tX) \n",
    "print(\"Gammas: {}\".format(gammaRange))\n",
    "i = 0    \n",
    "for gamma in gammaRange:\n",
    "    i = i + 1\n",
    "    print(\"Step\", i, \"over\", nbPoints)\n",
    "    loss_train = []\n",
    "    loss_test = []\n",
    "    initial_w = np.zeros((tX.shape[1]))\n",
    "     \n",
    "    for k in range (k_fold):\n",
    "        loss_tr, loss_te = cross_validation(y, x_norm, k_fold, k, 0, initial_w, gamma, \"least_squares_GD\")\n",
    "        loss_train.append(loss_tr)\n",
    "        loss_test.append(loss_te)\n",
    "        \n",
    "    \n",
    "    # rmse of the mean mse\n",
    "    loss_tr = np.sum(loss_train, axis=0)/k_fold\n",
    "    loss_te = np.sum(loss_test, axis=0)/k_fold\n",
    "    losses_tr.append(loss_tr)\n",
    "    losses_te.append(loss_te)\n",
    "    print(\"   - loss_tr: {}, loss_te: {}\".format(loss_tr, loss_te))\n",
    "cross_validation_visualization(gammaRange, losses_tr, losses_te)\n",
    "    \n",
    "#bestGammaIdx = np.where(losses == np.ndarray.min(losses))\n",
    "#bestGamma = gammaRange[bestGammaIdx]\n",
    "#print(\"Best gamma value is: {}\".format(bestGamma))"
   ]
  },
  {
   "cell_type": "markdown",
   "metadata": {
    "collapsed": true
   },
   "source": [
    "## Improving Logistic_regression\n",
    "\n",
    "We search the gamma parameter that minimize the loss."
   ]
  },
  {
   "cell_type": "code",
   "execution_count": 12,
   "metadata": {
    "collapsed": false
   },
   "outputs": [
    {
     "ename": "NameError",
     "evalue": "name 'loss' is not defined",
     "output_type": "error",
     "traceback": [
      "\u001b[0;31m---------------------------------------------------------------------------\u001b[0m",
      "\u001b[0;31mNameError\u001b[0m                                 Traceback (most recent call last)",
      "\u001b[0;32m<ipython-input-12-c6e5180014f7>\u001b[0m in \u001b[0;36m<module>\u001b[0;34m()\u001b[0m\n\u001b[1;32m      7\u001b[0m     \u001b[0;31m# TODO crossvalidation\u001b[0m\u001b[0;34m\u001b[0m\u001b[0;34m\u001b[0m\u001b[0m\n\u001b[1;32m      8\u001b[0m     \u001b[0;31m#losses[i] = loss\u001b[0m\u001b[0;34m\u001b[0m\u001b[0;34m\u001b[0m\u001b[0m\n\u001b[0;32m----> 9\u001b[0;31m     \u001b[0mprint\u001b[0m\u001b[0;34m(\u001b[0m\u001b[0;34m\"gamma = {},  loss = {}\"\u001b[0m\u001b[0;34m.\u001b[0m\u001b[0mformat\u001b[0m\u001b[0;34m(\u001b[0m\u001b[0mgamma\u001b[0m\u001b[0;34m,\u001b[0m \u001b[0mloss\u001b[0m\u001b[0;34m)\u001b[0m\u001b[0;34m)\u001b[0m\u001b[0;34m\u001b[0m\u001b[0m\n\u001b[0m\u001b[1;32m     10\u001b[0m \u001b[0;34m\u001b[0m\u001b[0m\n\u001b[1;32m     11\u001b[0m \u001b[0mplt\u001b[0m\u001b[0;34m.\u001b[0m\u001b[0mplot\u001b[0m\u001b[0;34m(\u001b[0m\u001b[0mgammaRange\u001b[0m\u001b[0;34m,\u001b[0m \u001b[0mlosses\u001b[0m\u001b[0;34m)\u001b[0m\u001b[0;34m\u001b[0m\u001b[0m\n",
      "\u001b[0;31mNameError\u001b[0m: name 'loss' is not defined"
     ]
    }
   ],
   "source": [
    "nbPoints = 20\n",
    "gammaRange = np.linspace(0, 5, nbPoints)\n",
    "losses = np.zeros(nbPoints)\n",
    "    \n",
    "for i in range(nbPoints):\n",
    "    gamma = gammaRange[i]\n",
    "    # TODO crossvalidation\n",
    "    #losses[i] = loss\n",
    "    print(\"gamma = {},  loss = {}\".format(gamma, loss))\n",
    "\n",
    "plt.plot(gammaRange, losses)\n",
    "bestGammaIdx = np.where(losses == np.ndarray.min(losses))\n",
    "bestGamma = gammaRange[bestGammaIdx]\n",
    "print(\"Best gamma value is: {}\".format(best))"
   ]
  },
  {
   "cell_type": "markdown",
   "metadata": {},
   "source": [
    "## Improving Penalized Logistic Regression\n",
    "\n",
    "We need to optimize the parameters lambda and gamma in order to minimize the loss"
   ]
  },
  {
   "cell_type": "code",
   "execution_count": null,
   "metadata": {
    "collapsed": true
   },
   "outputs": [],
   "source": [
    "TODO"
   ]
  },
  {
   "cell_type": "markdown",
   "metadata": {},
   "source": [
    "### Predicting"
   ]
  },
  {
   "cell_type": "code",
   "execution_count": 186,
   "metadata": {
    "collapsed": false
   },
   "outputs": [
    {
     "name": "stdout",
     "output_type": "stream",
     "text": [
      "(568238, 30)\n"
     ]
    }
   ],
   "source": [
    "DATA_TEST_PATH = '../data/test.csv'\n",
    "_, tX_test, ids_test = load_csv_data(DATA_TEST_PATH)\n",
    "print(tX_test.shape)\n",
    "\n"
   ]
  },
  {
   "cell_type": "markdown",
   "metadata": {},
   "source": [
    "## Prepare tX_test"
   ]
  },
  {
   "cell_type": "code",
   "execution_count": 187,
   "metadata": {
    "collapsed": false
   },
   "outputs": [],
   "source": [
    "tXTe = normalize(tX_test)\n",
    "tXTe = np.hstack((np.ones((tX_test.shape[0],1)), tXTe))\n"
   ]
  },
  {
   "cell_type": "code",
   "execution_count": 189,
   "metadata": {
    "collapsed": false,
    "scrolled": true
   },
   "outputs": [],
   "source": [
    "OUTPUT_PATH = '../output/out.csv'\n",
    "\n",
    "y_pred = predict_labels(weights, tXTe)\n",
    "\n",
    "create_csv_submission(ids_test, y_pred, OUTPUT_PATH)"
   ]
  },
  {
   "cell_type": "code",
   "execution_count": null,
   "metadata": {
    "collapsed": true
   },
   "outputs": [],
   "source": []
  }
 ],
 "metadata": {
  "kernelspec": {
   "display_name": "Python 3",
   "language": "python",
   "name": "python3"
  },
  "language_info": {
   "codemirror_mode": {
    "name": "ipython",
    "version": 3
   },
   "file_extension": ".py",
   "mimetype": "text/x-python",
   "name": "python",
   "nbconvert_exporter": "python",
   "pygments_lexer": "ipython3",
   "version": "3.4.3"
  }
 },
 "nbformat": 4,
 "nbformat_minor": 1
}
