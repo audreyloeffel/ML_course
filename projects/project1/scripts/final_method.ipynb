{
 "cells": [
  {
   "cell_type": "markdown",
   "metadata": {},
   "source": [
    "# Higg's Boson Challenge - Final Predictions"
   ]
  },
  {
   "cell_type": "code",
   "execution_count": 1,
   "metadata": {
    "collapsed": false
   },
   "outputs": [],
   "source": [
    "# Useful starting lines\n",
    "%matplotlib inline\n",
    "import numpy as np\n",
    "import matplotlib.pyplot as plt\n",
    "from regression import ridge_regression\n",
    "from least_squares import least_squares\n",
    "from proj1_helpers import *\n",
    "from helpers import standardize\n",
    "%load_ext autoreload\n",
    "%autoreload 2"
   ]
  },
  {
   "cell_type": "markdown",
   "metadata": {},
   "source": [
    "## Preprocessing"
   ]
  },
  {
   "cell_type": "code",
   "execution_count": 2,
   "metadata": {
    "collapsed": true
   },
   "outputs": [],
   "source": [
    "DATA_TRAIN_PATH = '../data/train.csv'\n",
    "y, tX, ids = load_csv_data(DATA_TRAIN_PATH)"
   ]
  },
  {
   "cell_type": "code",
   "execution_count": 24,
   "metadata": {
    "collapsed": false
   },
   "outputs": [],
   "source": [
    "def prepare(x):\n",
    "    \"\"\"\n",
    "    Prepare the data by standardizing and replacing unused \n",
    "    values (-999) by the mean of their columns such that they\n",
    "    don't affect the computation then.\n",
    "    \"\"\"\n",
    "    # Here we put the non sense values (-999) to mean \n",
    "    # such that then with the standardization they will be set to 0\n",
    "    # And we count the number of -999 values to add this information to\n",
    "    N = x.shape[0]\n",
    "    novalues_len = np.zeros((x.shape[0], x.shape[1]))\n",
    "    useless_features = []\n",
    "    \n",
    "    \n",
    "    xt = np.copy(x.T)\n",
    "    i = 0\n",
    "    for xi in xt:\n",
    "        xi[xi==-999] = np.nan\n",
    "        m = np.nanmean(xi)\n",
    "        nanidx = np.where(np.isnan(xi))\n",
    "        number_noval = nanidx[0].shape[0]\n",
    "        xi[nanidx] = m\n",
    "        if number_noval >= N:\n",
    "            useless_features.append(i)\n",
    "        i = i + 1\n",
    "    \n",
    "    i = 0\n",
    "    for xi in xt.T:\n",
    "        nanidx = np.where(np.isnan(xi))\n",
    "        novalues_len[i] = nanidx[0].shape[0]\n",
    "        i = i + 1\n",
    "    \n",
    "    #tx = xt.T\n",
    "    #tx = np.delete(tx, useless_features, axis=1)\n",
    "    #tx = np.hstack((tx, novalues_len))\n",
    "    \n",
    "    tx, mean, std = standardize(xt.T)\n",
    "    \n",
    "    return tx"
   ]
  },
  {
   "cell_type": "code",
   "execution_count": 25,
   "metadata": {
    "collapsed": false
   },
   "outputs": [],
   "source": [
    "tx = prepare(tX)"
   ]
  },
  {
   "cell_type": "markdown",
   "metadata": {},
   "source": [
    "## Training phase "
   ]
  },
  {
   "cell_type": "code",
   "execution_count": 26,
   "metadata": {
    "collapsed": true
   },
   "outputs": [],
   "source": [
    "def build_poly(x, degree = 5):\n",
    "    tX_poly = np.power(x, 0)\n",
    "    tX_d = np.log2(np.abs(x))\n",
    "    tX_poly = np.hstack((tX_poly, tX_d))\n",
    "    tX_d = np.log10(np.square(x))\n",
    "    tX_poly = np.hstack((tX_poly, tX_d))\n",
    "    \n",
    "    for d in range(0, degree):\n",
    "        tX_d = np.power(x, d+1)\n",
    "        tX_poly = np.hstack((tX_poly, tX_d))\n",
    "       \n",
    "    return tX_poly"
   ]
  },
  {
   "cell_type": "code",
   "execution_count": 27,
   "metadata": {
    "collapsed": false
   },
   "outputs": [],
   "source": [
    "tx_poly = build_poly(tx)"
   ]
  },
  {
   "cell_type": "code",
   "execution_count": 28,
   "metadata": {
    "collapsed": false
   },
   "outputs": [],
   "source": [
    "lamb = 0.0000000001\n",
    "weights, loss = ridge_regression(y, tx_poly, 0.0000000001)"
   ]
  },
  {
   "cell_type": "code",
   "execution_count": 29,
   "metadata": {
    "collapsed": false
   },
   "outputs": [
    {
     "name": "stdout",
     "output_type": "stream",
     "text": [
      "0.291414239863\n",
      "[  1.07515899e+00  -9.87449866e-02  -1.56104408e-01  -3.08276424e-02\n",
      "  -7.06175533e-03  -2.30834167e-02   2.04894800e-02  -2.70037688e-02\n",
      "  -6.99165033e-02   3.74785135e-02   8.04391370e-02  -2.33356425e-02\n",
      "  -6.06667814e-03  -1.52590304e-01  -1.15196626e-01  -1.59690367e-01\n",
      "  -1.03057590e-01  -2.53404351e-01  -2.36360130e-01  -7.73366852e-02\n",
      "  -5.15956222e-02  -1.60062962e-01  -1.18891025e-01  -6.51324245e-02\n",
      "  -6.48083452e-02  -2.44825695e-03   3.66033505e-03  -1.40124754e-01\n",
      "  -6.72536902e-02  -5.92511781e-02  -1.96671661e-02   0.00000000e+00\n",
      "   5.49026782e-01  -4.25778420e-02  -8.92855890e-02   9.49148787e-02\n",
      "  -4.08419867e-01  -3.29382781e-01   3.54901297e+00   7.56092249e-02\n",
      "   5.73337142e-02  -1.11006048e-01   1.55026178e-01  -1.97089318e-02\n",
      "  -9.78476784e-01  -1.60921827e-02   1.88474611e-01   2.19020869e-02\n",
      "   7.13437259e-02  -4.29290619e-02   7.95226643e-02   1.10391102e-01\n",
      "  -6.30415932e-02   1.69496255e-01  -5.66214315e-02   2.11254560e-01\n",
      "  -9.93192393e-01  -1.13429638e-01  -3.28190642e+00   1.27997458e+00\n",
      "   1.01199881e+00  -1.40479091e-01   0.00000000e+00  -9.01983656e-01\n",
      "   4.10451027e-02   3.84250118e-02  -1.69586037e-01   7.06125900e-01\n",
      "   5.25648845e-01  -5.90184141e+00  -1.02405708e-01  -1.00164218e-01\n",
      "   1.70102244e-01  -2.59319622e-01   2.91976826e-02   1.62567201e+00\n",
      "   2.44426228e-02  -3.00967759e-01  -3.60860349e-02  -1.24110153e-01\n",
      "   7.19862372e-02  -1.29042590e-01  -1.81275317e-01   1.02679901e-01\n",
      "  -2.95342667e-01   8.99677114e-02  -3.46530395e-01   1.64050239e+00\n",
      "   1.96013395e-01   5.44628856e+00  -2.12336813e+00  -1.68502212e+00\n",
      "   2.32837314e-01   1.20170621e-01   2.07126677e-01  -2.61116286e-01\n",
      "  -2.29942324e-01   7.39558270e-03   6.41926831e-02  -1.46443554e-01\n",
      "  -1.19513008e-01   9.40290622e-02  -2.25996084e-02  -1.37228822e+01\n",
      "  -4.61389130e-02  -1.72162832e-01   1.08568236e-01   2.96902170e+00\n",
      "  -8.87069132e-04  -3.24725026e-03   2.71536602e+00   2.22260944e-03\n",
      "   3.42300929e-03   3.92277491e-02  -3.22471788e-03  -3.47495213e-02\n",
      "   3.60195174e-02   1.19664627e-01  -6.33385757e-03  -5.41067474e-03\n",
      "   9.84621057e-02  -1.56095159e-03   1.15927712e-03   1.15919994e+01\n",
      "   1.19041970e-01  -1.69239566e-01   3.64156645e-02   3.84551011e-02\n",
      "   6.69465458e-02   1.59837588e-02   9.10219982e-02  -5.45804645e-04\n",
      "  -6.28352670e-02   1.44522643e-02   7.48893939e-02   4.23136849e-02\n",
      "  -1.02545913e-01   1.69167484e-02  -9.79911365e-02  -4.27657143e-02\n",
      "  -8.95210238e-03  -2.21445630e-02  -6.33247524e-02  -7.91625226e-03\n",
      "   4.65923331e-02   9.46693478e-03  -5.27370211e-02  -2.83880248e-01\n",
      "  -6.29142283e-02   1.11727409e-01  -4.55312469e-03  -1.08979730e-02\n",
      "   6.22551619e-02  -5.38462504e-03  -9.07224543e-02   1.20147968e-01\n",
      "   2.76875049e-02   1.41831790e-02  -1.98577711e-03  -3.75890224e-02\n",
      "  -1.98849617e-02  -1.73402932e-02   1.23034073e-03   2.63811451e-02\n",
      "  -5.72519900e-04  -1.79651094e-02  -8.16839120e-03   3.52156540e-01\n",
      "  -1.62109880e-02   1.20543690e-02  -2.95807912e-04   4.40321291e-03\n",
      "   2.40855627e-03  -3.35578494e-04   5.99868234e-05  -1.21186086e-02\n",
      "   4.68705485e-03   1.89943338e-02   1.52969860e-02   1.82162218e-02\n",
      "   1.79126620e-03   2.01681915e-03   5.32481004e-04   4.64891424e-04\n",
      "  -1.31870117e-03   1.76367500e-02   1.20147971e-01  -1.69343459e-03\n",
      "  -2.35465987e-03   2.21508099e-05   6.51570486e-03  -7.94655240e-04\n",
      "   1.22930921e-03  -3.89467358e-04   9.68020964e-03  -7.25988436e-05\n",
      "   1.99861112e-03   5.42789853e-04   9.76410443e-02   6.99737469e-05\n",
      "  -5.97620692e-04   1.29787726e-03   3.04044013e-03  -3.18915486e-05\n",
      "   3.15423529e-03   2.19781701e-03   9.64448931e-04  -3.15722428e-03\n",
      "  -2.52942632e-03   2.81498785e-01  -2.10827447e-03  -5.00312057e-03\n",
      "   4.01825631e-04  -1.21882993e-05  -1.49961493e-03   5.69260873e-04\n",
      "  -1.27278688e-03   1.20147971e-01   3.47625005e-05   8.57821010e-05\n",
      "   2.44539127e-07  -3.46834033e-04   9.14927777e-04  -2.86972263e-05\n",
      "   4.24613712e-05  -2.43732651e-03   3.49439233e-06  -8.04352135e-05\n",
      "  -1.12730148e-05  -1.44039555e-01   1.20012215e-03   9.95636634e-06\n",
      "   1.88735535e-04  -1.32025560e-03  -3.50442893e-06  -2.48794034e-04\n",
      "  -8.07116522e-04  -2.29595454e-05  -1.35270962e-03   1.07855772e-04\n",
      "  -1.14765717e-01   8.06844982e-05  -4.19565924e-05  -5.73846374e-05\n",
      "   9.43515302e-08  -2.03615860e-05   1.44649303e-04   3.24137094e-05]\n"
     ]
    }
   ],
   "source": [
    "print(loss)\n",
    "print(weights)"
   ]
  },
  {
   "cell_type": "markdown",
   "metadata": {},
   "source": [
    "## Prediction for the test data"
   ]
  },
  {
   "cell_type": "code",
   "execution_count": 9,
   "metadata": {
    "collapsed": false
   },
   "outputs": [],
   "source": [
    "DATA_TEST_PATH = '../data/test.csv'\n",
    "_, tX_test, ids_test = load_csv_data(DATA_TEST_PATH)"
   ]
  },
  {
   "cell_type": "code",
   "execution_count": 10,
   "metadata": {
    "collapsed": true
   },
   "outputs": [],
   "source": [
    "tx_test = prepare(tX_test)"
   ]
  },
  {
   "cell_type": "code",
   "execution_count": 11,
   "metadata": {
    "collapsed": true
   },
   "outputs": [],
   "source": [
    "tx_test_poly = build_poly(tx_test)"
   ]
  },
  {
   "cell_type": "code",
   "execution_count": 12,
   "metadata": {
    "collapsed": true
   },
   "outputs": [],
   "source": [
    "OUTPUT_PATH = '../output/out.csv'\n",
    "y_pred = predict_labels(weights, tx_test_poly)\n",
    "\n",
    "create_csv_submission(ids_test, y_pred, OUTPUT_PATH)"
   ]
  },
  {
   "cell_type": "code",
   "execution_count": null,
   "metadata": {
    "collapsed": true
   },
   "outputs": [],
   "source": []
  }
 ],
 "metadata": {
  "anaconda-cloud": {},
  "kernelspec": {
   "display_name": "Python [Root]",
   "language": "python",
   "name": "Python [Root]"
  },
  "language_info": {
   "codemirror_mode": {
    "name": "ipython",
    "version": 3
   },
   "file_extension": ".py",
   "mimetype": "text/x-python",
   "name": "python",
   "nbconvert_exporter": "python",
   "pygments_lexer": "ipython3",
   "version": "3.5.2"
  }
 },
 "nbformat": 4,
 "nbformat_minor": 0
}
