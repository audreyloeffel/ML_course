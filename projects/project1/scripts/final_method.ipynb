{
 "cells": [
  {
   "cell_type": "markdown",
   "metadata": {},
   "source": [
    "# Higg's Boson Challenge - Final Predictions"
   ]
  },
  {
   "cell_type": "code",
   "execution_count": 192,
   "metadata": {
    "collapsed": false
   },
   "outputs": [
    {
     "name": "stdout",
     "output_type": "stream",
     "text": [
      "The autoreload extension is already loaded. To reload it, use:\n",
      "  %reload_ext autoreload\n"
     ]
    }
   ],
   "source": [
    "# Useful starting lines\n",
    "%matplotlib inline\n",
    "import numpy as np\n",
    "import matplotlib.pyplot as plt\n",
    "from regression import ridge_regression\n",
    "from least_squares import least_squares\n",
    "from proj1_helpers import *\n",
    "from helpers import standardize\n",
    "%load_ext autoreload\n",
    "%autoreload 2"
   ]
  },
  {
   "cell_type": "markdown",
   "metadata": {},
   "source": [
    "## Preprocessing"
   ]
  },
  {
   "cell_type": "code",
   "execution_count": 193,
   "metadata": {
    "collapsed": true
   },
   "outputs": [],
   "source": [
    "DATA_TRAIN_PATH = '../data/train.csv'\n",
    "y, tX, ids = load_csv_data(DATA_TRAIN_PATH)"
   ]
  },
  {
   "cell_type": "code",
   "execution_count": 194,
   "metadata": {
    "collapsed": false
   },
   "outputs": [],
   "source": [
    "def prepare(x):\n",
    "    \"\"\"\n",
    "    Prepare the data by standardizing and replacing unused \n",
    "    values (-999) by the mean of their columns such that they\n",
    "    don't affect the computation then.\n",
    "    \"\"\"\n",
    "    # Here we put the non sense values (-999) to mean \n",
    "    # such that then with the standardization they will be set to 0\n",
    "    # And we count the number of -999 values to add this information to\n",
    "    N = x.shape[0]\n",
    "    novalues_len = np.zeros((x.shape[0], x.shape[1]))\n",
    "    useless_features = []\n",
    "    \n",
    "    \n",
    "    xt = np.copy(x.T)\n",
    "    i = 0\n",
    "    for xi in xt:\n",
    "        xi[xi==-999] = np.nan\n",
    "        m = np.nanmean(xi)\n",
    "        nanidx = np.where(np.isnan(xi))\n",
    "        number_noval = nanidx[0].shape[0]\n",
    "        xi[nanidx] = m\n",
    "        if number_noval >= N:\n",
    "            useless_features.append(i)\n",
    "        i = i + 1\n",
    "    \n",
    "    i = 0\n",
    "    for xi in xt.T:\n",
    "        nanidx = np.where(np.isnan(xi))\n",
    "        novalues_len[i] = nanidx[0].shape[0]\n",
    "        i = i + 1\n",
    "    \n",
    "    #tx = xt.T\n",
    "    #tx = np.delete(tx, useless_features, axis=1)\n",
    "    #tx = np.hstack((tx, novalues_len))\n",
    "    \n",
    "    tx, mean, std = standardize(xt.T)\n",
    "    \n",
    "    return tx"
   ]
  },
  {
   "cell_type": "code",
   "execution_count": 195,
   "metadata": {
    "collapsed": false
   },
   "outputs": [],
   "source": [
    "tx = prepare(tX)"
   ]
  },
  {
   "cell_type": "markdown",
   "metadata": {},
   "source": [
    "## Training phase "
   ]
  },
  {
   "cell_type": "code",
   "execution_count": 196,
   "metadata": {
    "collapsed": true
   },
   "outputs": [],
   "source": [
    "def build_poly(x, degree = 5):\n",
    "    tX_poly = np.power(x, 0)\n",
    "    tX_d = np.log2(np.abs(x))\n",
    "    tX_poly = np.hstack((tX_poly, tX_d))\n",
    "    tX_d = np.log10(np.square(x))\n",
    "    tX_poly = np.hstack((tX_poly, tX_d))\n",
    "    \n",
    "    for d in range(0, degree):\n",
    "        tX_d = np.power(x, d+1)\n",
    "        tX_poly = np.hstack((tX_poly, tX_d))\n",
    "       \n",
    "    return tX_poly"
   ]
  },
  {
   "cell_type": "code",
   "execution_count": 197,
   "metadata": {
    "collapsed": false
   },
   "outputs": [],
   "source": [
    "tx_poly = build_poly(tx)"
   ]
  },
  {
   "cell_type": "code",
   "execution_count": 198,
   "metadata": {
    "collapsed": false
   },
   "outputs": [],
   "source": [
    "lamb = 0.0000000001\n",
    "weights, loss = ridge_regression(y, tx_poly, 0.0000000001)"
   ]
  },
  {
   "cell_type": "markdown",
   "metadata": {},
   "source": [
    "## Prediction for the test data"
   ]
  },
  {
   "cell_type": "code",
   "execution_count": 199,
   "metadata": {
    "collapsed": false
   },
   "outputs": [],
   "source": [
    "DATA_TEST_PATH = '../data/test.csv'\n",
    "_, tX_test, ids_test = load_csv_data(DATA_TEST_PATH)"
   ]
  },
  {
   "cell_type": "code",
   "execution_count": 200,
   "metadata": {
    "collapsed": true
   },
   "outputs": [],
   "source": [
    "tx_test = prepare(tX_test)"
   ]
  },
  {
   "cell_type": "code",
   "execution_count": 201,
   "metadata": {
    "collapsed": true
   },
   "outputs": [],
   "source": [
    "tx_test_poly = build_poly(tx_test)"
   ]
  },
  {
   "cell_type": "code",
   "execution_count": 202,
   "metadata": {
    "collapsed": true
   },
   "outputs": [],
   "source": [
    "OUTPUT_PATH = '../output/out.csv'\n",
    "y_pred = predict_labels(weights, tx_test_poly)\n",
    "\n",
    "create_csv_submission(ids_test, y_pred, OUTPUT_PATH)"
   ]
  },
  {
   "cell_type": "code",
   "execution_count": null,
   "metadata": {
    "collapsed": true
   },
   "outputs": [],
   "source": []
  }
 ],
 "metadata": {
  "kernelspec": {
   "display_name": "Python [Root]",
   "language": "python",
   "name": "Python [Root]"
  },
  "language_info": {
   "codemirror_mode": {
    "name": "ipython",
    "version": 3
   },
   "file_extension": ".py",
   "mimetype": "text/x-python",
   "name": "python",
   "nbconvert_exporter": "python",
   "pygments_lexer": "ipython3",
   "version": "3.5.2"
  }
 },
 "nbformat": 4,
 "nbformat_minor": 0
}
