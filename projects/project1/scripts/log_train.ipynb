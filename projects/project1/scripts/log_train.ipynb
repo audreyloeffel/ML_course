{
 "cells": [
  {
   "cell_type": "code",
   "execution_count": 1,
   "metadata": {
    "collapsed": false
   },
   "outputs": [],
   "source": [
    "# Useful starting lines\n",
    "%matplotlib inline\n",
    "import numpy as np\n",
    "import matplotlib.pyplot as plt\n",
    "%load_ext autoreload\n",
    "%autoreload 2"
   ]
  },
  {
   "cell_type": "markdown",
   "metadata": {},
   "source": [
    "## Load the training data into feature matrix, class labels, and event ids:"
   ]
  },
  {
   "cell_type": "code",
   "execution_count": 3,
   "metadata": {
    "collapsed": false
   },
   "outputs": [],
   "source": [
    "from proj1_helpers import *\n",
    "DATA_TRAIN_PATH = '../data/train.csv' # TODO: download train data and supply path here \n",
    "y, tX, ids = load_csv_data(DATA_TRAIN_PATH)"
   ]
  },
  {
   "cell_type": "markdown",
   "metadata": {},
   "source": [
    "## Do your thing crazy machine learning thing here :) ..."
   ]
  },
  {
   "cell_type": "markdown",
   "metadata": {
    "collapsed": false
   },
   "source": [
    "### Prepare the data"
   ]
  },
  {
   "cell_type": "code",
   "execution_count": 4,
   "metadata": {
    "collapsed": false
   },
   "outputs": [],
   "source": [
    "from helpers import standardize\n",
    "\n",
    "def prepare(x):\n",
    "    \"\"\"\n",
    "    Prepare the data by standardizing and replacing unused \n",
    "    values (-999) by the mean of their columns such that they\n",
    "    don't affect the computation then.\n",
    "    \"\"\"\n",
    "    # Here we put the non sense values (-999) to 0 or mean \n",
    "    # such that they don't affect too much the prediction then\n",
    "    xt = np.copy(x.T)\n",
    "    for xi in xt:\n",
    "        xi[xi==-999] = np.nan\n",
    "        m = np.nanmean(xi)\n",
    "        nanidx = np.where(np.isnan(xi))\n",
    "        xi[nanidx] = m\n",
    "        \n",
    "    tx, mean, std = standardize(xt.T)\n",
    "    \n",
    "    return tx        \n",
    "\n",
    "tx = prepare(tX)"
   ]
  },
  {
   "cell_type": "markdown",
   "metadata": {},
   "source": [
    "### Exploratory data analysis"
   ]
  },
  {
   "cell_type": "code",
   "execution_count": 4,
   "metadata": {
    "collapsed": false
   },
   "outputs": [
    {
     "name": "stdout",
     "output_type": "stream",
     "text": [
      "Number of data entries: 250000\n",
      "Number of feature: 31\n",
      "(250000, 31)\n",
      "(250000,)\n",
      "[ 1. -1. -1. ...,  1. -1. -1.]\n"
     ]
    }
   ],
   "source": [
    "rows, features = tx.shape\n",
    "print('Number of data entries:', rows)\n",
    "print('Number of feature:', features)\n",
    "print(tx.shape)\n",
    "print(tx[:, 1].shape)\n",
    "print(y)"
   ]
  },
  {
   "cell_type": "code",
   "execution_count": 5,
   "metadata": {
    "collapsed": false
   },
   "outputs": [
    {
     "name": "stdout",
     "output_type": "stream",
     "text": [
      "[ 1.  1.  1. ...,  1.  1.  1.]\n"
     ]
    },
    {
     "data": {
      "image/png": "[encoded data removed]",
      "text/plain": [
       "<matplotlib.figure.Figure at 0x10aa32e48>"
      ]
     },
     "metadata": {},
     "output_type": "display_data"
    }
   ],
   "source": [
    "plt.rcParams['agg.path.chunksize'] = 10000\n",
    "feature1 = tx[:, 0]\n",
    "print(feature1)\n",
    "plt.scatter(feature1, y)\n",
    "plt.xlabel('x')\n",
    "plt.ylabel('y: prediction')\n",
    "plt.show()"
   ]
  },
  {
   "cell_type": "code",
   "execution_count": null,
   "metadata": {
    "collapsed": false
   },
   "outputs": [],
   "source": [
    "for f in range(0, 0):\n",
    "    featureData = tx[:, f]\n",
    "    plt.scatter(featureData, y)\n",
    "    plt.xlabel('x')\n",
    "    plt.ylabel('y: prediction')\n",
    "    plt.show()"
   ]
  },
  {
   "cell_type": "markdown",
   "metadata": {},
   "source": [
    "### Exploratory data comments"
   ]
  },
  {
   "cell_type": "markdown",
   "metadata": {},
   "source": [
    "For feature : \n",
    "\n",
    "    4-  > 40 =>  1\n",
    "    5-  > 6  =>  1\n",
    "    \n",
    "    1-  > 20 => -1 [10,20] => more likely to be -1\n",
    "    3-  > 20 => -1\n",
    "    21- > 10 => -1\n",
    "    26- > 22 => -1\n",
    "    29- > 13 => -1\n",
    "    "
   ]
  },
  {
   "cell_type": "markdown",
   "metadata": {},
   "source": [
    "## Process the Machine Learning"
   ]
  },
  {
   "cell_type": "code",
   "execution_count": null,
   "metadata": {
    "collapsed": false
   },
   "outputs": [],
   "source": [
    "from tools import *\n",
    "\n",
    "initial_w = np.zeros((tx.shape[1], 1))\n",
    "\n",
    "n = 20\n",
    "lambdas = np.logspace(-4, 1, n)\n",
    "ws = np.array([])\n",
    "losses = np.array([])\n",
    "\n",
    "for lamb in lambdas:\n",
    "    loss, w = reg_logistic_regression_SGD(y, tx, lamb, initial_w)\n",
    "    ws.append(w)\n",
    "    losses.append(loss)\n",
    "    print(\"{n}/20: lambda={b}, loss={l:.5f}\".format(n=21-n, b=lamb, l=loss))\n",
    "    n-=1\n",
    "    \n",
    "print(losses.argmin())    \n",
    "w = ws[losses.argmin()]"
   ]
  },
  {
   "cell_type": "markdown",
   "metadata": {},
   "source": [
    "## Generate predictions and save ouput in csv format for submission:"
   ]
  },
  {
   "cell_type": "code",
   "execution_count": null,
   "metadata": {
    "collapsed": false
   },
   "outputs": [],
   "source": [
    "DATA_TEST_PATH = '../data/test.csv'\n",
    "_, tX_test, ids_test = load_csv_data(DATA_TEST_PATH)\n",
    "\n",
    "tx_test = prepare(tX_test)\n",
    "y_pred = predict_log(tx_test, w)\n"
   ]
  },
  {
   "cell_type": "code",
   "execution_count": null,
   "metadata": {
    "collapsed": false
   },
   "outputs": [],
   "source": [
    "OUTPUT_PATH = '../output/out.csv' # TODO: fill in desired name of output file for submission\n",
    "y_pred = predict_labels(weights, tx_test)\n",
    "\n",
    "create_csv_submission(ids_test, y_pred, OUTPUT_PATH)"
   ]
  },
  {
   "cell_type": "code",
   "execution_count": null,
   "metadata": {
    "collapsed": true
   },
   "outputs": [],
   "source": []
  },
  {
   "cell_type": "code",
   "execution_count": null,
   "metadata": {
    "collapsed": true
   },
   "outputs": [],
   "source": []
  }
 ],
 "metadata": {
  "anaconda-cloud": {},
  "kernelspec": {
   "display_name": "Python [conda root]",
   "language": "python",
   "name": "conda-root-py"
  },
  "language_info": {
   "codemirror_mode": {
    "name": "ipython",
    "version": 3
   },
   "file_extension": ".py",
   "mimetype": "text/x-python",
   "name": "python",
   "nbconvert_exporter": "python",
   "pygments_lexer": "ipython3",
   "version": "3.5.2"
  }
 },
 "nbformat": 4,
 "nbformat_minor": 0
}
